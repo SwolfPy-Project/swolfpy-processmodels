{
 "cells": [
  {
   "cell_type": "markdown",
   "metadata": {},
   "source": [
    "# Single Family Collection"
   ]
  },
  {
   "cell_type": "code",
   "execution_count": 1,
   "metadata": {},
   "outputs": [],
   "source": [
    "# Import libraries\n",
    "import swolfpy as sp\n",
    "import swolfpy_inputdata as spid\n",
    "import swolfpy_processmodels as sppm\n",
    "import seaborn as sns\n",
    "import matplotlib.pyplot as plt\n",
    "import pandas as pd\n",
    "\n",
    "# Set font for plots\n",
    "plt.rcParams[\"font.family\"] = \"Times New Roman\"\n",
    "plt.rcParams[\"font.size\"] = \"14\"\n",
    "\n",
    "# Set specs for pandas\n",
    "pd.set_option('display.max_colwidth', 0)\n",
    "pd.set_option('display.max_rows', 500)\n",
    "pd.set_option('display.max_columns', 200)"
   ]
  },
  {
   "cell_type": "code",
   "execution_count": 2,
   "metadata": {},
   "outputs": [
    {
     "data": {
      "text/html": [
       "<div>\n",
       "<style scoped>\n",
       "    .dataframe tbody tr th:only-of-type {\n",
       "        vertical-align: middle;\n",
       "    }\n",
       "\n",
       "    .dataframe tbody tr th {\n",
       "        vertical-align: top;\n",
       "    }\n",
       "\n",
       "    .dataframe thead th {\n",
       "        text-align: right;\n",
       "    }\n",
       "</style>\n",
       "<table border=\"1\" class=\"dataframe\">\n",
       "  <thead>\n",
       "    <tr style=\"text-align: right;\">\n",
       "      <th></th>\n",
       "      <th>LF</th>\n",
       "      <th>Composting</th>\n",
       "      <th>AD</th>\n",
       "      <th>WTE</th>\n",
       "      <th>SS_MRF</th>\n",
       "      <th>Reprocessing</th>\n",
       "      <th>TS</th>\n",
       "      <th>Collection</th>\n",
       "    </tr>\n",
       "  </thead>\n",
       "  <tbody>\n",
       "    <tr>\n",
       "      <th>LF</th>\n",
       "      <td>NaN</td>\n",
       "      <td>20.0</td>\n",
       "      <td>20.0</td>\n",
       "      <td>20.0</td>\n",
       "      <td>20.0</td>\n",
       "      <td>20.0</td>\n",
       "      <td>0.0</td>\n",
       "      <td>30.0</td>\n",
       "    </tr>\n",
       "    <tr>\n",
       "      <th>Composting</th>\n",
       "      <td>NaN</td>\n",
       "      <td>NaN</td>\n",
       "      <td>20.0</td>\n",
       "      <td>20.0</td>\n",
       "      <td>20.0</td>\n",
       "      <td>20.0</td>\n",
       "      <td>20.0</td>\n",
       "      <td>30.0</td>\n",
       "    </tr>\n",
       "    <tr>\n",
       "      <th>AD</th>\n",
       "      <td>NaN</td>\n",
       "      <td>NaN</td>\n",
       "      <td>NaN</td>\n",
       "      <td>20.0</td>\n",
       "      <td>20.0</td>\n",
       "      <td>20.0</td>\n",
       "      <td>20.0</td>\n",
       "      <td>30.0</td>\n",
       "    </tr>\n",
       "    <tr>\n",
       "      <th>WTE</th>\n",
       "      <td>NaN</td>\n",
       "      <td>NaN</td>\n",
       "      <td>NaN</td>\n",
       "      <td>NaN</td>\n",
       "      <td>20.0</td>\n",
       "      <td>20.0</td>\n",
       "      <td>20.0</td>\n",
       "      <td>30.0</td>\n",
       "    </tr>\n",
       "    <tr>\n",
       "      <th>SS_MRF</th>\n",
       "      <td>NaN</td>\n",
       "      <td>NaN</td>\n",
       "      <td>NaN</td>\n",
       "      <td>NaN</td>\n",
       "      <td>NaN</td>\n",
       "      <td>20.0</td>\n",
       "      <td>20.0</td>\n",
       "      <td>30.0</td>\n",
       "    </tr>\n",
       "    <tr>\n",
       "      <th>Reprocessing</th>\n",
       "      <td>NaN</td>\n",
       "      <td>NaN</td>\n",
       "      <td>NaN</td>\n",
       "      <td>NaN</td>\n",
       "      <td>NaN</td>\n",
       "      <td>NaN</td>\n",
       "      <td>20.0</td>\n",
       "      <td>30.0</td>\n",
       "    </tr>\n",
       "    <tr>\n",
       "      <th>TS</th>\n",
       "      <td>NaN</td>\n",
       "      <td>NaN</td>\n",
       "      <td>NaN</td>\n",
       "      <td>NaN</td>\n",
       "      <td>NaN</td>\n",
       "      <td>NaN</td>\n",
       "      <td>NaN</td>\n",
       "      <td>30.0</td>\n",
       "    </tr>\n",
       "    <tr>\n",
       "      <th>Collection</th>\n",
       "      <td>NaN</td>\n",
       "      <td>NaN</td>\n",
       "      <td>NaN</td>\n",
       "      <td>NaN</td>\n",
       "      <td>NaN</td>\n",
       "      <td>NaN</td>\n",
       "      <td>NaN</td>\n",
       "      <td>NaN</td>\n",
       "    </tr>\n",
       "  </tbody>\n",
       "</table>\n",
       "</div>"
      ],
      "text/plain": [
       "              LF  Composting    AD   WTE  SS_MRF  Reprocessing    TS  \\\n",
       "LF           NaN  20.0        20.0  20.0  20.0    20.0          0.0    \n",
       "Composting   NaN NaN          20.0  20.0  20.0    20.0          20.0   \n",
       "AD           NaN NaN         NaN    20.0  20.0    20.0          20.0   \n",
       "WTE          NaN NaN         NaN   NaN    20.0    20.0          20.0   \n",
       "SS_MRF       NaN NaN         NaN   NaN   NaN      20.0          20.0   \n",
       "Reprocessing NaN NaN         NaN   NaN   NaN     NaN            20.0   \n",
       "TS           NaN NaN         NaN   NaN   NaN     NaN           NaN     \n",
       "Collection   NaN NaN         NaN   NaN   NaN     NaN           NaN     \n",
       "\n",
       "              Collection  \n",
       "LF            30.0        \n",
       "Composting    30.0        \n",
       "AD            30.0        \n",
       "WTE           30.0        \n",
       "SS_MRF        30.0        \n",
       "Reprocessing  30.0        \n",
       "TS            30.0        \n",
       "Collection   NaN          "
      ]
     },
     "execution_count": 2,
     "metadata": {},
     "output_type": "execute_result"
    }
   ],
   "source": [
    "# Treatment processes\n",
    "ProcessMetaData = sppm.ProcessModelsMetaData.ProcessModelsMetaData\n",
    "Treatment_processes = {}\n",
    "Treatment_processes['LF'] = {'input_type':ProcessMetaData['LF']['InputType'] , 'model':sppm.LF()}\n",
    "Treatment_processes['Composting'] = {'input_type':ProcessMetaData['Comp']['InputType'] , 'model':sppm.Comp()}\n",
    "Treatment_processes['AD'] = {'input_type':ProcessMetaData['AD']['InputType'] , 'model':sppm.AD()}\n",
    "Treatment_processes['WTE'] = {'input_type':ProcessMetaData['WTE']['InputType'] , 'model':sppm.WTE()}\n",
    "Treatment_processes['SS_MRF'] = {'input_type':ProcessMetaData['SS_MRF']['InputType'] , 'model':sppm.SS_MRF()}\n",
    "Treatment_processes['Reprocessing'] = {'input_type':ProcessMetaData['Reproc']['InputType'] , 'model':sppm.Reproc()}\n",
    "Treatment_processes['TS'] = {'input_type':ProcessMetaData['TS']['InputType'] , 'model':sppm.TS()}\n",
    "\n",
    "# Distance\n",
    "Processes = ['LF', 'Composting', 'AD', 'WTE', 'SS_MRF', 'Reprocessing', 'TS', 'Collection']\n",
    "data = sppm.Distance.create_distance_table(process_names=Processes,\n",
    "                                           transport_modes=['Heavy Duty Truck'],\n",
    "                                           default_dist=20)\n",
    "data['Heavy Duty Truck'].loc['LF', 'TS'] = 0.0\n",
    "data['Heavy Duty Truck'].loc[:, 'Collection'] = [30, 30, 30, 30, 30, 30, 30, None]\n",
    "distance = sppm.Distance(data)          \n",
    "data['Heavy Duty Truck']"
   ]
  },
  {
   "cell_type": "markdown",
   "metadata": {},
   "source": [
    "## Collection Schemes\n",
    "\n",
    "* **Residual waste collection**\n",
    "    * Midex Resiudal Waste Collection (RWC)\n",
    "    * Organics (ORG) + Dry Residuals (DryRes)\n",
    "    * Recyclables (REC) + Wet Residuals (WetRes)\n",
    "    * Mixed Residual Waste Dropoff (MRDO)\n",
    "* **Source separated services for recyclables**\n",
    "    * Single Stream Recyclables (SSR)\n",
    "    * Dual Stream Recyclables (DSR) \n",
    "    * Multi Stream Recyclables (MSR)\n",
    "    * Multi Stream Recyclables Dropoff (MSRDO)\n",
    "* **Source separated services for yard waste**\n",
    "    * Source separated Yard Waste (SSYW)\n",
    "    * Source separated Organics (SSO)  (Food & Yard waste)\n",
    "    * Source separated Yard Waste Dropoff (SSYWDO)"
   ]
  },
  {
   "cell_type": "markdown",
   "metadata": {},
   "source": [
    "## Diesel fuel use and cost in different collection schemes"
   ]
  },
  {
   "cell_type": "code",
   "execution_count": 3,
   "metadata": {},
   "outputs": [],
   "source": [
    "Total_Fuel = pd.DataFrame(columns=['Total Fuel'])\n",
    "Opr_Cost = pd.DataFrame(columns=['Operation Cost'])\n",
    "\n",
    "# RWC\n",
    "scheme=sppm.SF_Col.scheme()\n",
    "scheme[('RWC', 'N/A', 'N/A')] = 1\n",
    "model = sppm.SF_Col('Collection', scheme, Treatment_processes=Treatment_processes, Distance=distance)\n",
    "model.calc()\n",
    "Total_Fuel.loc['RWC',:] = [round(sum(model.col['TotalMass']*model.col['FuelMg'].fillna(0)))] / model.col_massflow.sum().sum()\n",
    "Opr_Cost.loc['RWC',:] = [round(sum(model.col['TotalMass']*model.col['C_collection'].fillna(0)))] / model.col_massflow.sum().sum()\n",
    "\n",
    "# RWC + SSR\n",
    "scheme=sppm.SF_Col.scheme()\n",
    "scheme[('RWC', 'N/A', 'SSR')] = 1\n",
    "model = sppm.SF_Col('Collection', scheme, Treatment_processes=Treatment_processes, Distance=distance)\n",
    "model.calc()\n",
    "Total_Fuel.loc['RWC + SSR',:] = [round(sum(model.col['TotalMass']*model.col['FuelMg'].fillna(0)))] / model.col_massflow.sum().sum()\n",
    "Opr_Cost.loc['RWC + SSR',:] = [round(sum(model.col['TotalMass']*model.col['C_collection'].fillna(0)))] / model.col_massflow.sum().sum()\n",
    "\n",
    "# RWC + SSYW\n",
    "scheme=sppm.SF_Col.scheme()\n",
    "scheme[('RWC', 'SSYW', 'N/A')] = 1\n",
    "model = sppm.SF_Col('Collection', scheme, Treatment_processes=Treatment_processes, Distance=distance)\n",
    "model.calc()\n",
    "Total_Fuel.loc['RWC + SSYW',:] = [round(sum(model.col['TotalMass']*model.col['FuelMg'].fillna(0)))] / model.col_massflow.sum().sum()\n",
    "Opr_Cost.loc['RWC + SSYW',:] = [round(sum(model.col['TotalMass']*model.col['C_collection'].fillna(0)))] / model.col_massflow.sum().sum()\n",
    "\n",
    "# RWC + 50% SSYW + 50% SSR\n",
    "scheme=sppm.SF_Col.scheme()\n",
    "scheme[('RWC', 'SSYW', 'N/A')] = 0.5\n",
    "scheme[('RWC', 'N/A', 'SSR')] = 0.5\n",
    "model = sppm.SF_Col('Collection', scheme, Treatment_processes=Treatment_processes, Distance=distance)\n",
    "model.calc()\n",
    "Total_Fuel.loc['RWC + 50% SSYW + 50% SSR',:] = [round(sum(model.col['TotalMass']*model.col['FuelMg'].fillna(0)))] / model.col_massflow.sum().sum()\n",
    "Opr_Cost.loc['RWC + 50% SSYW + 50% SSR',:] = [round(sum(model.col['TotalMass']*model.col['C_collection'].fillna(0)))] / model.col_massflow.sum().sum()\n",
    "\n",
    "# RWC + SSO\n",
    "scheme=sppm.SF_Col.scheme()\n",
    "scheme[('RWC', 'SSO', 'N/A')] = 1\n",
    "model = sppm.SF_Col('Collection', scheme, Treatment_processes=Treatment_processes, Distance=distance)\n",
    "model.calc()\n",
    "Total_Fuel.loc['RWC + SSO',:] = [round(sum(model.col['TotalMass']*model.col['FuelMg'].fillna(0)))] / model.col_massflow.sum().sum()\n",
    "Opr_Cost.loc['RWC + SSO',:] = [round(sum(model.col['TotalMass']*model.col['C_collection'].fillna(0)))] / model.col_massflow.sum().sum()\n",
    "\n",
    "# RWC + SSR & SSYW\n",
    "scheme=sppm.SF_Col.scheme()\n",
    "scheme[('RWC', 'SSYW', 'SSR')] = 1\n",
    "model = sppm.SF_Col('Collection', scheme, Treatment_processes=Treatment_processes, Distance=distance)\n",
    "model.calc()\n",
    "Total_Fuel.loc['RWC + SSR & SSYW',:] = [round(sum(model.col['TotalMass']*model.col['FuelMg'].fillna(0)))] / model.col_massflow.sum().sum()\n",
    "Opr_Cost.loc['RWC + SSR & SSYW',:] = [round(sum(model.col['TotalMass']*model.col['C_collection'].fillna(0)))] / model.col_massflow.sum().sum()\n",
    "\n",
    "# RWC + SSR & SSO\n",
    "scheme=sppm.SF_Col.scheme()\n",
    "scheme[('RWC', 'SSO', 'SSR')] = 1\n",
    "model = sppm.SF_Col('Collection', scheme, Treatment_processes=Treatment_processes, Distance=distance)\n",
    "model.calc()\n",
    "Total_Fuel.loc['RWC + SSR & SSO',:] = [round(sum(model.col['TotalMass']*model.col['FuelMg'].fillna(0)))] / model.col_massflow.sum().sum()\n",
    "Opr_Cost.loc['RWC + SSR & SSO',:] = [round(sum(model.col['TotalMass']*model.col['C_collection'].fillna(0)))] / model.col_massflow.sum().sum()"
   ]
  },
  {
   "cell_type": "markdown",
   "metadata": {},
   "source": [
    "### Fuel use"
   ]
  },
  {
   "cell_type": "code",
   "execution_count": 4,
   "metadata": {},
   "outputs": [
    {
     "data": {
      "text/html": [
       "<div>\n",
       "<style scoped>\n",
       "    .dataframe tbody tr th:only-of-type {\n",
       "        vertical-align: middle;\n",
       "    }\n",
       "\n",
       "    .dataframe tbody tr th {\n",
       "        vertical-align: top;\n",
       "    }\n",
       "\n",
       "    .dataframe thead th {\n",
       "        text-align: right;\n",
       "    }\n",
       "</style>\n",
       "<table border=\"1\" class=\"dataframe\">\n",
       "  <thead>\n",
       "    <tr style=\"text-align: right;\">\n",
       "      <th></th>\n",
       "      <th>Total Fuel</th>\n",
       "    </tr>\n",
       "  </thead>\n",
       "  <tbody>\n",
       "    <tr>\n",
       "      <th>RWC</th>\n",
       "      <td>5.430930</td>\n",
       "    </tr>\n",
       "    <tr>\n",
       "      <th>RWC + SSR</th>\n",
       "      <td>8.195958</td>\n",
       "    </tr>\n",
       "    <tr>\n",
       "      <th>RWC + 50% SSYW + 50% SSR</th>\n",
       "      <td>8.281900</td>\n",
       "    </tr>\n",
       "    <tr>\n",
       "      <th>RWC + SSYW</th>\n",
       "      <td>8.367828</td>\n",
       "    </tr>\n",
       "    <tr>\n",
       "      <th>RWC + SSO</th>\n",
       "      <td>9.006861</td>\n",
       "    </tr>\n",
       "    <tr>\n",
       "      <th>RWC + SSR &amp; SSYW</th>\n",
       "      <td>11.132870</td>\n",
       "    </tr>\n",
       "    <tr>\n",
       "      <th>RWC + SSR &amp; SSO</th>\n",
       "      <td>11.771890</td>\n",
       "    </tr>\n",
       "  </tbody>\n",
       "</table>\n",
       "</div>"
      ],
      "text/plain": [
       "                          Total Fuel\n",
       "RWC                       5.430930  \n",
       "RWC + SSR                 8.195958  \n",
       "RWC + 50% SSYW + 50% SSR  8.281900  \n",
       "RWC + SSYW                8.367828  \n",
       "RWC + SSO                 9.006861  \n",
       "RWC + SSR & SSYW          11.132870 \n",
       "RWC + SSR & SSO           11.771890 "
      ]
     },
     "execution_count": 4,
     "metadata": {},
     "output_type": "execute_result"
    },
    {
     "data": {
      "image/png": "[encoded data removed]",
      "text/plain": [
       "<Figure size 1152x504 with 1 Axes>"
      ]
     },
     "metadata": {
      "needs_background": "light"
     },
     "output_type": "display_data"
    }
   ],
   "source": [
    "fig, ax = plt.subplots(figsize=(16, 7))\n",
    "Total_Fuel.sort_values(by='Total Fuel', inplace=True)\n",
    "Total_Fuel.plot(kind='bar', ax=ax, color='r')\n",
    "xticklabels = ax.set_xticklabels(Total_Fuel.index, rotation=30, horizontalalignment='right')\n",
    "ylabel = ax.set_ylabel('Total Fuel (L/Mg)')\n",
    "\n",
    "for i, j in enumerate(Total_Fuel.index):\n",
    "    ax.text(i, Total_Fuel['Total Fuel'][j], str(round(Total_Fuel['Total Fuel'][j],2)),\n",
    "            ha='center', va='bottom',\n",
    "            color='blue', fontweight='bold')\n",
    "Total_Fuel"
   ]
  },
  {
   "cell_type": "code",
   "execution_count": 5,
   "metadata": {},
   "outputs": [
    {
     "data": {
      "text/plain": [
       "8.281893"
      ]
     },
     "execution_count": 5,
     "metadata": {},
     "output_type": "execute_result"
    }
   ],
   "source": [
    "(8.195958 + 8.367828) / 2"
   ]
  },
  {
   "cell_type": "code",
   "execution_count": 6,
   "metadata": {},
   "outputs": [
    {
     "data": {
      "text/plain": [
       "8.2819"
      ]
     },
     "execution_count": 6,
     "metadata": {},
     "output_type": "execute_result"
    }
   ],
   "source": [
    "(5.430930 + 11.132870) / 2"
   ]
  },
  {
   "cell_type": "code",
   "execution_count": 7,
   "metadata": {},
   "outputs": [
    {
     "data": {
      "text/plain": [
       "11.132856"
      ]
     },
     "execution_count": 7,
     "metadata": {},
     "output_type": "execute_result"
    }
   ],
   "source": [
    "8.195958 + 8.367828 - 5.430930"
   ]
  },
  {
   "cell_type": "markdown",
   "metadata": {},
   "source": [
    "## Cost"
   ]
  },
  {
   "cell_type": "code",
   "execution_count": 8,
   "metadata": {},
   "outputs": [
    {
     "data": {
      "text/html": [
       "<div>\n",
       "<style scoped>\n",
       "    .dataframe tbody tr th:only-of-type {\n",
       "        vertical-align: middle;\n",
       "    }\n",
       "\n",
       "    .dataframe tbody tr th {\n",
       "        vertical-align: top;\n",
       "    }\n",
       "\n",
       "    .dataframe thead th {\n",
       "        text-align: right;\n",
       "    }\n",
       "</style>\n",
       "<table border=\"1\" class=\"dataframe\">\n",
       "  <thead>\n",
       "    <tr style=\"text-align: right;\">\n",
       "      <th></th>\n",
       "      <th>Operation Cost</th>\n",
       "    </tr>\n",
       "  </thead>\n",
       "  <tbody>\n",
       "    <tr>\n",
       "      <th>RWC</th>\n",
       "      <td>35.967782</td>\n",
       "    </tr>\n",
       "    <tr>\n",
       "      <th>RWC + SSR</th>\n",
       "      <td>52.902324</td>\n",
       "    </tr>\n",
       "    <tr>\n",
       "      <th>RWC + 50% SSYW + 50% SSR</th>\n",
       "      <td>53.364100</td>\n",
       "    </tr>\n",
       "    <tr>\n",
       "      <th>RWC + SSYW</th>\n",
       "      <td>53.825863</td>\n",
       "    </tr>\n",
       "    <tr>\n",
       "      <th>RWC + SSO</th>\n",
       "      <td>54.956409</td>\n",
       "    </tr>\n",
       "    <tr>\n",
       "      <th>RWC + SSR &amp; SSYW</th>\n",
       "      <td>70.760405</td>\n",
       "    </tr>\n",
       "    <tr>\n",
       "      <th>RWC + SSR &amp; SSO</th>\n",
       "      <td>71.890951</td>\n",
       "    </tr>\n",
       "  </tbody>\n",
       "</table>\n",
       "</div>"
      ],
      "text/plain": [
       "                          Operation Cost\n",
       "RWC                       35.967782     \n",
       "RWC + SSR                 52.902324     \n",
       "RWC + 50% SSYW + 50% SSR  53.364100     \n",
       "RWC + SSYW                53.825863     \n",
       "RWC + SSO                 54.956409     \n",
       "RWC + SSR & SSYW          70.760405     \n",
       "RWC + SSR & SSO           71.890951     "
      ]
     },
     "execution_count": 8,
     "metadata": {},
     "output_type": "execute_result"
    },
    {
     "data": {
      "image/png": "[encoded data removed]",
      "text/plain": [
       "<Figure size 1152x504 with 1 Axes>"
      ]
     },
     "metadata": {
      "needs_background": "light"
     },
     "output_type": "display_data"
    }
   ],
   "source": [
    "fig, ax = plt.subplots(figsize=(16, 7))\n",
    "Opr_Cost.sort_values(by='Operation Cost', inplace=True)\n",
    "Opr_Cost.plot(kind='bar', ax=ax, color='g')\n",
    "xticklabels = ax.set_xticklabels(Opr_Cost.index, rotation=30, horizontalalignment='right')\n",
    "ylabel = ax.set_ylabel('Operational Cost ($/Mg)')\n",
    "\n",
    "for i, j in enumerate(Opr_Cost.index):\n",
    "    ax.text(i, Opr_Cost['Operation Cost'][j], str(round(Opr_Cost['Operation Cost'][j],2)),\n",
    "            ha='center', va='bottom',\n",
    "            color='blue', fontweight='bold')\n",
    "\n",
    "Opr_Cost"
   ]
  },
  {
   "cell_type": "code",
   "execution_count": 9,
   "metadata": {},
   "outputs": [
    {
     "data": {
      "text/plain": [
       "53.364093499999996"
      ]
     },
     "execution_count": 9,
     "metadata": {},
     "output_type": "execute_result"
    }
   ],
   "source": [
    "(53.825863 + 52.902324) / 2"
   ]
  },
  {
   "cell_type": "code",
   "execution_count": 10,
   "metadata": {},
   "outputs": [
    {
     "data": {
      "text/plain": [
       "53.365"
      ]
     },
     "execution_count": 10,
     "metadata": {},
     "output_type": "execute_result"
    }
   ],
   "source": [
    "(35.97 + 70.76) / 2"
   ]
  },
  {
   "cell_type": "code",
   "execution_count": null,
   "metadata": {},
   "outputs": [],
   "source": []
  }
 ],
 "metadata": {
  "kernelspec": {
   "display_name": "Python 3",
   "language": "python",
   "name": "python3"
  },
  "language_info": {
   "codemirror_mode": {
    "name": "ipython",
    "version": 3
   },
   "file_extension": ".py",
   "mimetype": "text/x-python",
   "name": "python",
   "nbconvert_exporter": "python",
   "pygments_lexer": "ipython3",
   "version": "3.7.9"
  }
 },
 "nbformat": 4,
 "nbformat_minor": 4
}
