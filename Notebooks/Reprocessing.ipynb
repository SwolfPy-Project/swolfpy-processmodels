{
 "cells": [
  {
   "cell_type": "markdown",
   "id": "liked-blocking",
   "metadata": {},
   "source": [
    "# Reprocessing"
   ]
  },
  {
   "cell_type": "code",
   "execution_count": 1,
   "id": "lonely-ukraine",
   "metadata": {},
   "outputs": [],
   "source": [
    "# Import libraries\n",
    "import swolfpy as sp\n",
    "import swolfpy_inputdata as spid\n",
    "import swolfpy_processmodels as sppm\n",
    "\n",
    "import seaborn as sns\n",
    "import matplotlib.pyplot as plt\n",
    "import pandas as pd\n",
    "from time import time\n",
    "\n",
    "# Set font for plots\n",
    "plt.rcParams[\"font.family\"] = \"Times New Roman\"\n",
    "plt.rcParams[\"font.size\"] = \"12\"\n",
    "\n",
    "# Set specs for pandas\n",
    "pd.set_option('display.max_colwidth', 0)\n",
    "pd.set_option('display.max_rows', 500)"
   ]
  },
  {
   "cell_type": "code",
   "execution_count": 2,
   "id": "valued-apache",
   "metadata": {},
   "outputs": [
    {
     "name": "stdout",
     "output_type": "stream",
     "text": [
      "Biosphere database already present!!! No setup is needed\n"
     ]
    },
    {
     "name": "stderr",
     "output_type": "stream",
     "text": [
      "Writing activities to SQLite3 database:\n"
     ]
    },
    {
     "name": "stdout",
     "output_type": "stream",
     "text": [
      "\n",
      "                ####\n",
      "                ++++++  Writing the Technosphere\n",
      "                \n"
     ]
    },
    {
     "name": "stderr",
     "output_type": "stream",
     "text": [
      "0% [##############################] 100% | ETA: 00:00:00\n",
      "Total time elapsed: 00:00:12\n"
     ]
    },
    {
     "name": "stdout",
     "output_type": "stream",
     "text": [
      "Title: Writing activities to SQLite3 database:\n",
      "  Started: 04/26/2021 19:46:13\n",
      "  Finished: 04/26/2021 19:46:26\n",
      "  Total time elapsed: 00:00:12\n",
      "  CPU %: 61.80\n",
      "  Memory %: 1.32\n"
     ]
    },
    {
     "name": "stderr",
     "output_type": "stream",
     "text": [
      "Writing activities to SQLite3 database:\n"
     ]
    },
    {
     "name": "stdout",
     "output_type": "stream",
     "text": [
      "\n",
      "              ####\n",
      "              ++++++ Initializing the Reprocessing\n",
      "              \n"
     ]
    },
    {
     "name": "stderr",
     "output_type": "stream",
     "text": [
      "0% [###############] 100% | ETA: 00:00:00\n",
      "Total time elapsed: 00:00:00\n",
      "Writing activities to SQLite3 database:\n"
     ]
    },
    {
     "name": "stdout",
     "output_type": "stream",
     "text": [
      "Title: Writing activities to SQLite3 database:\n",
      "  Started: 04/26/2021 19:46:27\n",
      "  Finished: 04/26/2021 19:46:27\n",
      "  Total time elapsed: 00:00:00\n",
      "  CPU %: 97.70\n",
      "  Memory %: 1.33\n",
      "\n",
      "              ####\n",
      "              ++++++ Writing the Reprocessing\n",
      "              \n"
     ]
    },
    {
     "name": "stderr",
     "output_type": "stream",
     "text": [
      "0% [###############] 100% | ETA: 00:00:00\n",
      "Total time elapsed: 00:00:00\n"
     ]
    },
    {
     "name": "stdout",
     "output_type": "stream",
     "text": [
      "Title: Writing activities to SQLite3 database:\n",
      "  Started: 04/26/2021 19:46:27\n",
      "  Finished: 04/26/2021 19:46:27\n",
      "  Total time elapsed: 00:00:00\n",
      "  CPU %: 78.10\n",
      "  Memory %: 1.33\n",
      "\n",
      "                  Grouping the exchanges with parameters in Database Reprocessing\n",
      "                  \n",
      "Time for writing the project: 16 second\n"
     ]
    }
   ],
   "source": [
    "project_name = 'Reprocessing'\n",
    "common_data = spid.CommonData()\n",
    "ProcessMetaData = sppm.ProcessModelsMetaData.ProcessModelsMetaData\n",
    "\n",
    "# Treatment processes\n",
    "Treatment_processes = {}\n",
    "Treatment_processes['Reprocessing'] = {'input_type':ProcessMetaData['Reproc']['InputType'] , 'model':sppm.Reproc()}\n",
    "\n",
    "# Distance\n",
    "Processes = ['Reprocessing']\n",
    "data = sppm.Distance.create_distance_table(process_names=Processes,\n",
    "                                           transport_modes=['Heavy Duty Truck'],\n",
    "                                           default_dist=20)\n",
    "\n",
    "distance = sppm.Distance(data)\n",
    "\n",
    "# Write project\n",
    "start = time()\n",
    "demo = sp.Project(project_name, common_data, Treatment_processes, distance)\n",
    "demo.init_project()\n",
    "demo.write_project()\n",
    "demo.group_exchanges()\n",
    "print(\"Time for writing the project: {} second\".format(round(time()-start)))"
   ]
  },
  {
   "cell_type": "markdown",
   "id": "difficult-relaxation",
   "metadata": {},
   "source": [
    "## Recyclable streams "
   ]
  },
  {
   "cell_type": "code",
   "execution_count": 3,
   "id": "cross-lesbian",
   "metadata": {},
   "outputs": [
    {
     "name": "stdout",
     "output_type": "stream",
     "text": [
      "0. Al\n",
      "1. Fe\n",
      "2. OCC\n",
      "3. Mixed_Paper\n",
      "4. ONP\n",
      "5. OFF\n",
      "6. Fiber_Other\n",
      "7. Brown_glass\n",
      "8. Clear_glass\n",
      "9. Green_glass\n",
      "10. Mixed_Glass\n",
      "11. PET\n",
      "12. HDPE_P\n",
      "13. HDPE_T\n",
      "14. LDPE_Film\n"
     ]
    }
   ],
   "source": [
    "for i,j in enumerate(common_data.Reprocessing_Index):\n",
    "    print(f'{i}. {j}')"
   ]
  },
  {
   "cell_type": "markdown",
   "id": "coordinated-production",
   "metadata": {},
   "source": [
    "## Environmental impacts of recycling"
   ]
  },
  {
   "cell_type": "code",
   "execution_count": 4,
   "id": "nominated-worthy",
   "metadata": {},
   "outputs": [
    {
     "data": {
      "text/html": [
       "<div>\n",
       "<style scoped>\n",
       "    .dataframe tbody tr th:only-of-type {\n",
       "        vertical-align: middle;\n",
       "    }\n",
       "\n",
       "    .dataframe tbody tr th {\n",
       "        vertical-align: top;\n",
       "    }\n",
       "\n",
       "    .dataframe thead th {\n",
       "        text-align: right;\n",
       "    }\n",
       "</style>\n",
       "<table border=\"1\" class=\"dataframe\">\n",
       "  <thead>\n",
       "    <tr style=\"text-align: right;\">\n",
       "      <th></th>\n",
       "      <th>('IPCC 2013', 'climate change', 'GWP 100a')</th>\n",
       "      <th>('TRACI (obsolete)', 'environmental impact', 'acidification')</th>\n",
       "      <th>('TRACI (obsolete)', 'environmental impact', 'ecotoxicity')</th>\n",
       "      <th>('TRACI (obsolete)', 'environmental impact', 'eutrophication')</th>\n",
       "      <th>('TRACI (obsolete)', 'environmental impact', 'photochemical oxidation')</th>\n",
       "    </tr>\n",
       "  </thead>\n",
       "  <tbody>\n",
       "    <tr>\n",
       "      <th>('Reprocessing', 'Al')</th>\n",
       "      <td>-22685.276923</td>\n",
       "      <td>-5746.467912</td>\n",
       "      <td>-8201.372360</td>\n",
       "      <td>-3.929294</td>\n",
       "      <td>-28.189423</td>\n",
       "    </tr>\n",
       "    <tr>\n",
       "      <th>('Reprocessing', 'Fe')</th>\n",
       "      <td>-2401.414162</td>\n",
       "      <td>-436.280344</td>\n",
       "      <td>-591.556216</td>\n",
       "      <td>-0.536956</td>\n",
       "      <td>-3.388073</td>\n",
       "    </tr>\n",
       "    <tr>\n",
       "      <th>('Reprocessing', 'OCC')</th>\n",
       "      <td>-13.785393</td>\n",
       "      <td>-171.872372</td>\n",
       "      <td>-1882.717195</td>\n",
       "      <td>-0.797088</td>\n",
       "      <td>-5.083904</td>\n",
       "    </tr>\n",
       "    <tr>\n",
       "      <th>('Reprocessing', 'Mixed_Paper')</th>\n",
       "      <td>-1295.993713</td>\n",
       "      <td>-403.591304</td>\n",
       "      <td>-3068.003489</td>\n",
       "      <td>0.044791</td>\n",
       "      <td>-2.384260</td>\n",
       "    </tr>\n",
       "    <tr>\n",
       "      <th>('Reprocessing', 'ONP')</th>\n",
       "      <td>-1295.993037</td>\n",
       "      <td>-403.590555</td>\n",
       "      <td>-3068.003373</td>\n",
       "      <td>0.044794</td>\n",
       "      <td>-2.384256</td>\n",
       "    </tr>\n",
       "    <tr>\n",
       "      <th>('Reprocessing', 'OFF')</th>\n",
       "      <td>525.536818</td>\n",
       "      <td>31.704318</td>\n",
       "      <td>97.084944</td>\n",
       "      <td>-0.041559</td>\n",
       "      <td>-0.838544</td>\n",
       "    </tr>\n",
       "    <tr>\n",
       "      <th>('Reprocessing', 'Fiber_Other')</th>\n",
       "      <td>-1295.993037</td>\n",
       "      <td>-403.590555</td>\n",
       "      <td>-3068.003373</td>\n",
       "      <td>0.044794</td>\n",
       "      <td>-2.384256</td>\n",
       "    </tr>\n",
       "    <tr>\n",
       "      <th>('Reprocessing', 'Brown_glass')</th>\n",
       "      <td>-370.131575</td>\n",
       "      <td>-53.888878</td>\n",
       "      <td>-71.277538</td>\n",
       "      <td>-0.299609</td>\n",
       "      <td>-0.486544</td>\n",
       "    </tr>\n",
       "    <tr>\n",
       "      <th>('Reprocessing', 'Clear_glass')</th>\n",
       "      <td>-370.131575</td>\n",
       "      <td>-53.888878</td>\n",
       "      <td>-71.277538</td>\n",
       "      <td>-0.299609</td>\n",
       "      <td>-0.486544</td>\n",
       "    </tr>\n",
       "    <tr>\n",
       "      <th>('Reprocessing', 'Green_glass')</th>\n",
       "      <td>-370.131575</td>\n",
       "      <td>-53.888878</td>\n",
       "      <td>-71.277538</td>\n",
       "      <td>-0.299609</td>\n",
       "      <td>-0.486544</td>\n",
       "    </tr>\n",
       "    <tr>\n",
       "      <th>('Reprocessing', 'Mixed_Glass')</th>\n",
       "      <td>-370.131575</td>\n",
       "      <td>-53.888878</td>\n",
       "      <td>-71.277538</td>\n",
       "      <td>-0.299609</td>\n",
       "      <td>-0.486544</td>\n",
       "    </tr>\n",
       "    <tr>\n",
       "      <th>('Reprocessing', 'PET')</th>\n",
       "      <td>-3609.094091</td>\n",
       "      <td>-1287.760251</td>\n",
       "      <td>-426.025755</td>\n",
       "      <td>-1.040308</td>\n",
       "      <td>-18.266979</td>\n",
       "    </tr>\n",
       "    <tr>\n",
       "      <th>('Reprocessing', 'HDPE_P')</th>\n",
       "      <td>-3238.944682</td>\n",
       "      <td>-907.278962</td>\n",
       "      <td>-434.522355</td>\n",
       "      <td>-0.508433</td>\n",
       "      <td>-9.381296</td>\n",
       "    </tr>\n",
       "    <tr>\n",
       "      <th>('Reprocessing', 'HDPE_T')</th>\n",
       "      <td>-3238.944682</td>\n",
       "      <td>-907.278962</td>\n",
       "      <td>-434.522355</td>\n",
       "      <td>-0.508433</td>\n",
       "      <td>-9.381296</td>\n",
       "    </tr>\n",
       "    <tr>\n",
       "      <th>('Reprocessing', 'LDPE_Film')</th>\n",
       "      <td>-3972.147815</td>\n",
       "      <td>-1105.803865</td>\n",
       "      <td>-543.072306</td>\n",
       "      <td>-0.680924</td>\n",
       "      <td>-11.459930</td>\n",
       "    </tr>\n",
       "  </tbody>\n",
       "</table>\n",
       "</div>"
      ],
      "text/plain": [
       "                                 ('IPCC 2013', 'climate change', 'GWP 100a')  \\\n",
       "('Reprocessing', 'Al')          -22685.276923                                  \n",
       "('Reprocessing', 'Fe')          -2401.414162                                   \n",
       "('Reprocessing', 'OCC')         -13.785393                                     \n",
       "('Reprocessing', 'Mixed_Paper') -1295.993713                                   \n",
       "('Reprocessing', 'ONP')         -1295.993037                                   \n",
       "('Reprocessing', 'OFF')          525.536818                                    \n",
       "('Reprocessing', 'Fiber_Other') -1295.993037                                   \n",
       "('Reprocessing', 'Brown_glass') -370.131575                                    \n",
       "('Reprocessing', 'Clear_glass') -370.131575                                    \n",
       "('Reprocessing', 'Green_glass') -370.131575                                    \n",
       "('Reprocessing', 'Mixed_Glass') -370.131575                                    \n",
       "('Reprocessing', 'PET')         -3609.094091                                   \n",
       "('Reprocessing', 'HDPE_P')      -3238.944682                                   \n",
       "('Reprocessing', 'HDPE_T')      -3238.944682                                   \n",
       "('Reprocessing', 'LDPE_Film')   -3972.147815                                   \n",
       "\n",
       "                                 ('TRACI (obsolete)', 'environmental impact', 'acidification')  \\\n",
       "('Reprocessing', 'Al')          -5746.467912                                                     \n",
       "('Reprocessing', 'Fe')          -436.280344                                                      \n",
       "('Reprocessing', 'OCC')         -171.872372                                                      \n",
       "('Reprocessing', 'Mixed_Paper') -403.591304                                                      \n",
       "('Reprocessing', 'ONP')         -403.590555                                                      \n",
       "('Reprocessing', 'OFF')          31.704318                                                       \n",
       "('Reprocessing', 'Fiber_Other') -403.590555                                                      \n",
       "('Reprocessing', 'Brown_glass') -53.888878                                                       \n",
       "('Reprocessing', 'Clear_glass') -53.888878                                                       \n",
       "('Reprocessing', 'Green_glass') -53.888878                                                       \n",
       "('Reprocessing', 'Mixed_Glass') -53.888878                                                       \n",
       "('Reprocessing', 'PET')         -1287.760251                                                     \n",
       "('Reprocessing', 'HDPE_P')      -907.278962                                                      \n",
       "('Reprocessing', 'HDPE_T')      -907.278962                                                      \n",
       "('Reprocessing', 'LDPE_Film')   -1105.803865                                                     \n",
       "\n",
       "                                 ('TRACI (obsolete)', 'environmental impact', 'ecotoxicity')  \\\n",
       "('Reprocessing', 'Al')          -8201.372360                                                   \n",
       "('Reprocessing', 'Fe')          -591.556216                                                    \n",
       "('Reprocessing', 'OCC')         -1882.717195                                                   \n",
       "('Reprocessing', 'Mixed_Paper') -3068.003489                                                   \n",
       "('Reprocessing', 'ONP')         -3068.003373                                                   \n",
       "('Reprocessing', 'OFF')          97.084944                                                     \n",
       "('Reprocessing', 'Fiber_Other') -3068.003373                                                   \n",
       "('Reprocessing', 'Brown_glass') -71.277538                                                     \n",
       "('Reprocessing', 'Clear_glass') -71.277538                                                     \n",
       "('Reprocessing', 'Green_glass') -71.277538                                                     \n",
       "('Reprocessing', 'Mixed_Glass') -71.277538                                                     \n",
       "('Reprocessing', 'PET')         -426.025755                                                    \n",
       "('Reprocessing', 'HDPE_P')      -434.522355                                                    \n",
       "('Reprocessing', 'HDPE_T')      -434.522355                                                    \n",
       "('Reprocessing', 'LDPE_Film')   -543.072306                                                    \n",
       "\n",
       "                                 ('TRACI (obsolete)', 'environmental impact', 'eutrophication')  \\\n",
       "('Reprocessing', 'Al')          -3.929294                                                         \n",
       "('Reprocessing', 'Fe')          -0.536956                                                         \n",
       "('Reprocessing', 'OCC')         -0.797088                                                         \n",
       "('Reprocessing', 'Mixed_Paper')  0.044791                                                         \n",
       "('Reprocessing', 'ONP')          0.044794                                                         \n",
       "('Reprocessing', 'OFF')         -0.041559                                                         \n",
       "('Reprocessing', 'Fiber_Other')  0.044794                                                         \n",
       "('Reprocessing', 'Brown_glass') -0.299609                                                         \n",
       "('Reprocessing', 'Clear_glass') -0.299609                                                         \n",
       "('Reprocessing', 'Green_glass') -0.299609                                                         \n",
       "('Reprocessing', 'Mixed_Glass') -0.299609                                                         \n",
       "('Reprocessing', 'PET')         -1.040308                                                         \n",
       "('Reprocessing', 'HDPE_P')      -0.508433                                                         \n",
       "('Reprocessing', 'HDPE_T')      -0.508433                                                         \n",
       "('Reprocessing', 'LDPE_Film')   -0.680924                                                         \n",
       "\n",
       "                                 ('TRACI (obsolete)', 'environmental impact', 'photochemical oxidation')  \n",
       "('Reprocessing', 'Al')          -28.189423                                                                \n",
       "('Reprocessing', 'Fe')          -3.388073                                                                 \n",
       "('Reprocessing', 'OCC')         -5.083904                                                                 \n",
       "('Reprocessing', 'Mixed_Paper') -2.384260                                                                 \n",
       "('Reprocessing', 'ONP')         -2.384256                                                                 \n",
       "('Reprocessing', 'OFF')         -0.838544                                                                 \n",
       "('Reprocessing', 'Fiber_Other') -2.384256                                                                 \n",
       "('Reprocessing', 'Brown_glass') -0.486544                                                                 \n",
       "('Reprocessing', 'Clear_glass') -0.486544                                                                 \n",
       "('Reprocessing', 'Green_glass') -0.486544                                                                 \n",
       "('Reprocessing', 'Mixed_Glass') -0.486544                                                                 \n",
       "('Reprocessing', 'PET')         -18.266979                                                                \n",
       "('Reprocessing', 'HDPE_P')      -9.381296                                                                 \n",
       "('Reprocessing', 'HDPE_T')      -9.381296                                                                 \n",
       "('Reprocessing', 'LDPE_Film')   -11.459930                                                                "
      ]
     },
     "execution_count": 4,
     "metadata": {},
     "output_type": "execute_result"
    }
   ],
   "source": [
    "funtional_units = []\n",
    "for i in common_data.Reprocessing_Index:\n",
    "    funtional_units.append({('Reprocessing', i): 1})\n",
    "\n",
    "impact_methods = [('IPCC 2013', 'climate change', 'GWP 100a'),\n",
    "                  ('TRACI (obsolete)', 'environmental impact', 'acidification'),\n",
    "                  ('TRACI (obsolete)', 'environmental impact', 'ecotoxicity'),\n",
    "                  ('TRACI (obsolete)', 'environmental impact', 'eutrophication'),\n",
    "                  ('TRACI (obsolete)', 'environmental impact', 'photochemical oxidation')]\n",
    "LCA_results = demo.setup_LCA('Reprocessing', funtional_units, impact_methods)\n",
    "LCA_results"
   ]
  },
  {
   "cell_type": "markdown",
   "id": "irish-giving",
   "metadata": {},
   "source": [
    "## Plastics"
   ]
  },
  {
   "cell_type": "code",
   "execution_count": 5,
   "id": "reflected-whole",
   "metadata": {},
   "outputs": [
    {
     "data": {
      "text/html": [
       "<div>\n",
       "<style scoped>\n",
       "    .dataframe tbody tr th:only-of-type {\n",
       "        vertical-align: middle;\n",
       "    }\n",
       "\n",
       "    .dataframe tbody tr th {\n",
       "        vertical-align: top;\n",
       "    }\n",
       "\n",
       "    .dataframe thead th {\n",
       "        text-align: right;\n",
       "    }\n",
       "</style>\n",
       "<table border=\"1\" class=\"dataframe\">\n",
       "  <thead>\n",
       "    <tr style=\"text-align: right;\">\n",
       "      <th></th>\n",
       "      <th>('IPCC 2013', 'climate change', 'GWP 100a')</th>\n",
       "    </tr>\n",
       "  </thead>\n",
       "  <tbody>\n",
       "    <tr>\n",
       "      <th>('Reprocessing', 'PET')</th>\n",
       "      <td>-3609.094091</td>\n",
       "    </tr>\n",
       "    <tr>\n",
       "      <th>('Reprocessing', 'HDPE_P')</th>\n",
       "      <td>-3238.944682</td>\n",
       "    </tr>\n",
       "    <tr>\n",
       "      <th>('Reprocessing', 'HDPE_T')</th>\n",
       "      <td>-3238.944682</td>\n",
       "    </tr>\n",
       "    <tr>\n",
       "      <th>('Reprocessing', 'LDPE_Film')</th>\n",
       "      <td>-3972.147815</td>\n",
       "    </tr>\n",
       "  </tbody>\n",
       "</table>\n",
       "</div>"
      ],
      "text/plain": [
       "                               ('IPCC 2013', 'climate change', 'GWP 100a')\n",
       "('Reprocessing', 'PET')       -3609.094091                                \n",
       "('Reprocessing', 'HDPE_P')    -3238.944682                                \n",
       "('Reprocessing', 'HDPE_T')    -3238.944682                                \n",
       "('Reprocessing', 'LDPE_Film') -3972.147815                                "
      ]
     },
     "execution_count": 5,
     "metadata": {},
     "output_type": "execute_result"
    },
    {
     "data": {
      "image/png": "[encoded data removed]",
      "text/plain": [
       "<Figure size 432x288 with 1 Axes>"
      ]
     },
     "metadata": {
      "needs_background": "light"
     },
     "output_type": "display_data"
    }
   ],
   "source": [
    "plastics = ['PET', 'HDPE_P', 'HDPE_T', 'LDPE_Film']\n",
    "\n",
    "plastic_acts = [\"('Reprocessing', '{}')\".format(act) for act in plastics]\n",
    "\n",
    "fig = LCA_results.loc[plastic_acts, [\"('IPCC 2013', 'climate change', 'GWP 100a')\"]].plot(kind='bar')\n",
    "fig.xaxis.set_ticklabels(plastics, rotation=90)\n",
    "fig.legend(loc='upper center', bbox_to_anchor=(0.5, 1.15))\n",
    "LCA_results.loc[plastic_acts, [\"('IPCC 2013', 'climate change', 'GWP 100a')\"]]"
   ]
  },
  {
   "cell_type": "markdown",
   "id": "vanilla-serum",
   "metadata": {},
   "source": [
    "### Plastics: PET"
   ]
  },
  {
   "cell_type": "code",
   "execution_count": 6,
   "id": "employed-property",
   "metadata": {},
   "outputs": [
    {
     "data": {
      "text/html": [
       "<div>\n",
       "<style scoped>\n",
       "    .dataframe tbody tr th:only-of-type {\n",
       "        vertical-align: middle;\n",
       "    }\n",
       "\n",
       "    .dataframe tbody tr th {\n",
       "        vertical-align: top;\n",
       "    }\n",
       "\n",
       "    .dataframe thead th {\n",
       "        text-align: right;\n",
       "    }\n",
       "</style>\n",
       "<table border=\"1\" class=\"dataframe\">\n",
       "  <thead>\n",
       "    <tr style=\"text-align: right;\">\n",
       "      <th></th>\n",
       "      <th>Activity</th>\n",
       "      <th>Flow</th>\n",
       "      <th>Flow Unit</th>\n",
       "      <th>Contribution</th>\n",
       "      <th>Unit</th>\n",
       "    </tr>\n",
       "  </thead>\n",
       "  <tbody>\n",
       "    <tr>\n",
       "      <th>0</th>\n",
       "      <td>Reprocessing PET</td>\n",
       "      <td>1.000000</td>\n",
       "      <td>Mg/year</td>\n",
       "      <td>-1772.873656</td>\n",
       "      <td>kg CO2-Eq</td>\n",
       "    </tr>\n",
       "    <tr>\n",
       "      <th>1</th>\n",
       "      <td>Equipment CNG</td>\n",
       "      <td>-263.420013</td>\n",
       "      <td>NA</td>\n",
       "      <td>-1000.457063</td>\n",
       "      <td>kg CO2-Eq</td>\n",
       "    </tr>\n",
       "    <tr>\n",
       "      <th>2</th>\n",
       "      <td>Equipment Residual Fuel Oil</td>\n",
       "      <td>-204.929993</td>\n",
       "      <td>L</td>\n",
       "      <td>-749.489882</td>\n",
       "      <td>kg CO2-Eq</td>\n",
       "    </tr>\n",
       "    <tr>\n",
       "      <th>3</th>\n",
       "      <td>Electricity production</td>\n",
       "      <td>100.699997</td>\n",
       "      <td>kWh</td>\n",
       "      <td>-88.285325</td>\n",
       "      <td>kg CO2-Eq</td>\n",
       "    </tr>\n",
       "    <tr>\n",
       "      <th>4</th>\n",
       "      <td>Industrial Residual Disposal</td>\n",
       "      <td>0.118000</td>\n",
       "      <td>Mg</td>\n",
       "      <td>1.181006</td>\n",
       "      <td>kg CO2-Eq</td>\n",
       "    </tr>\n",
       "    <tr>\n",
       "      <th>5</th>\n",
       "      <td>Equipment Diesel</td>\n",
       "      <td>0.060000</td>\n",
       "      <td>L</td>\n",
       "      <td>0.215068</td>\n",
       "      <td>kg CO2-Eq</td>\n",
       "    </tr>\n",
       "  </tbody>\n",
       "</table>\n",
       "</div>"
      ],
      "text/plain": [
       "                       Activity        Flow Flow Unit  Contribution       Unit\n",
       "0  Reprocessing PET              1.000000    Mg/year  -1772.873656   kg CO2-Eq\n",
       "1  Equipment CNG                -263.420013  NA       -1000.457063   kg CO2-Eq\n",
       "2  Equipment Residual Fuel Oil  -204.929993  L        -749.489882    kg CO2-Eq\n",
       "3  Electricity production        100.699997  kWh      -88.285325     kg CO2-Eq\n",
       "4  Industrial Residual Disposal  0.118000    Mg        1.181006      kg CO2-Eq\n",
       "5  Equipment Diesel              0.060000    L         0.215068      kg CO2-Eq"
      ]
     },
     "execution_count": 6,
     "metadata": {},
     "output_type": "execute_result"
    },
    {
     "data": {
      "image/png": "[encoded data removed]",
      "text/plain": [
       "<Figure size 432x288 with 1 Axes>"
      ]
     },
     "metadata": {
      "needs_background": "light"
     },
     "output_type": "display_data"
    }
   ],
   "source": [
    "contr_data, fig = demo.contribution_analysis(functional_unit = {('Reprocessing', 'PET'):1},\n",
    "                                             impact_method = ('IPCC 2013', 'climate change', 'GWP 100a'),\n",
    "                                             limit = 5,\n",
    "                                             limit_type='number',\n",
    "                                             target='activities',\n",
    "                                             figsize=(6, 4),\n",
    "                                             font_scale=1)\n",
    "contr_data"
   ]
  },
  {
   "cell_type": "markdown",
   "id": "knowing-range",
   "metadata": {},
   "source": [
    "### Plastics: HDPE_P"
   ]
  },
  {
   "cell_type": "code",
   "execution_count": 7,
   "id": "accepted-ground",
   "metadata": {},
   "outputs": [
    {
     "data": {
      "text/html": [
       "<div>\n",
       "<style scoped>\n",
       "    .dataframe tbody tr th:only-of-type {\n",
       "        vertical-align: middle;\n",
       "    }\n",
       "\n",
       "    .dataframe tbody tr th {\n",
       "        vertical-align: top;\n",
       "    }\n",
       "\n",
       "    .dataframe thead th {\n",
       "        text-align: right;\n",
       "    }\n",
       "</style>\n",
       "<table border=\"1\" class=\"dataframe\">\n",
       "  <thead>\n",
       "    <tr style=\"text-align: right;\">\n",
       "      <th></th>\n",
       "      <th>Activity</th>\n",
       "      <th>Flow</th>\n",
       "      <th>Flow Unit</th>\n",
       "      <th>Contribution</th>\n",
       "      <th>Unit</th>\n",
       "    </tr>\n",
       "  </thead>\n",
       "  <tbody>\n",
       "    <tr>\n",
       "      <th>0</th>\n",
       "      <td>Reprocessing HDPE P</td>\n",
       "      <td>1.000000</td>\n",
       "      <td>Mg/year</td>\n",
       "      <td>-1382.222028</td>\n",
       "      <td>kg CO2-Eq</td>\n",
       "    </tr>\n",
       "    <tr>\n",
       "      <th>1</th>\n",
       "      <td>Equipment CNG</td>\n",
       "      <td>-306.459991</td>\n",
       "      <td>NA</td>\n",
       "      <td>-1163.920915</td>\n",
       "      <td>kg CO2-Eq</td>\n",
       "    </tr>\n",
       "    <tr>\n",
       "      <th>2</th>\n",
       "      <td>Equipment Residual Fuel Oil</td>\n",
       "      <td>-184.070007</td>\n",
       "      <td>L</td>\n",
       "      <td>-673.198717</td>\n",
       "      <td>kg CO2-Eq</td>\n",
       "    </tr>\n",
       "    <tr>\n",
       "      <th>3</th>\n",
       "      <td>Electricity production</td>\n",
       "      <td>24.700001</td>\n",
       "      <td>kWh</td>\n",
       "      <td>-21.654892</td>\n",
       "      <td>kg CO2-Eq</td>\n",
       "    </tr>\n",
       "    <tr>\n",
       "      <th>4</th>\n",
       "      <td>Industrial Residual Disposal</td>\n",
       "      <td>0.122000</td>\n",
       "      <td>Mg</td>\n",
       "      <td>1.221040</td>\n",
       "      <td>kg CO2-Eq</td>\n",
       "    </tr>\n",
       "    <tr>\n",
       "      <th>5</th>\n",
       "      <td>Equipment Diesel</td>\n",
       "      <td>0.060000</td>\n",
       "      <td>L</td>\n",
       "      <td>0.215068</td>\n",
       "      <td>kg CO2-Eq</td>\n",
       "    </tr>\n",
       "  </tbody>\n",
       "</table>\n",
       "</div>"
      ],
      "text/plain": [
       "                       Activity        Flow Flow Unit  Contribution       Unit\n",
       "0  Reprocessing HDPE P           1.000000    Mg/year  -1382.222028   kg CO2-Eq\n",
       "1  Equipment CNG                -306.459991  NA       -1163.920915   kg CO2-Eq\n",
       "2  Equipment Residual Fuel Oil  -184.070007  L        -673.198717    kg CO2-Eq\n",
       "3  Electricity production        24.700001   kWh      -21.654892     kg CO2-Eq\n",
       "4  Industrial Residual Disposal  0.122000    Mg        1.221040      kg CO2-Eq\n",
       "5  Equipment Diesel              0.060000    L         0.215068      kg CO2-Eq"
      ]
     },
     "execution_count": 7,
     "metadata": {},
     "output_type": "execute_result"
    },
    {
     "data": {
      "image/png": "[encoded data removed]",
      "text/plain": [
       "<Figure size 432x288 with 1 Axes>"
      ]
     },
     "metadata": {
      "needs_background": "light"
     },
     "output_type": "display_data"
    }
   ],
   "source": [
    "contr_data, fig = demo.contribution_analysis(functional_unit = {('Reprocessing', 'HDPE_P'):1},\n",
    "                                             impact_method = ('IPCC 2013', 'climate change', 'GWP 100a'),\n",
    "                                             limit = 5,\n",
    "                                             limit_type='number',\n",
    "                                             target='activities',\n",
    "                                             figsize=(6, 4),\n",
    "                                             font_scale=1)\n",
    "contr_data"
   ]
  },
  {
   "cell_type": "code",
   "execution_count": 8,
   "id": "lesser-convert",
   "metadata": {},
   "outputs": [
    {
     "data": {
      "text/html": [
       "<div>\n",
       "<style scoped>\n",
       "    .dataframe tbody tr th:only-of-type {\n",
       "        vertical-align: middle;\n",
       "    }\n",
       "\n",
       "    .dataframe tbody tr th {\n",
       "        vertical-align: top;\n",
       "    }\n",
       "\n",
       "    .dataframe thead th {\n",
       "        text-align: right;\n",
       "    }\n",
       "</style>\n",
       "<table border=\"1\" class=\"dataframe\">\n",
       "  <thead>\n",
       "    <tr style=\"text-align: right;\">\n",
       "      <th></th>\n",
       "      <th>Emission</th>\n",
       "      <th>Compartment</th>\n",
       "      <th>Flow</th>\n",
       "      <th>Flow Unit</th>\n",
       "      <th>Contribution</th>\n",
       "      <th>Unit</th>\n",
       "    </tr>\n",
       "  </thead>\n",
       "  <tbody>\n",
       "    <tr>\n",
       "      <th>0</th>\n",
       "      <td>Carbon dioxide, fossil</td>\n",
       "      <td>(air,)</td>\n",
       "      <td>-1491.242087</td>\n",
       "      <td>kilogram</td>\n",
       "      <td>-1491.242087</td>\n",
       "      <td>kg CO2-Eq</td>\n",
       "    </tr>\n",
       "    <tr>\n",
       "      <th>1</th>\n",
       "      <td>Carbon dioxide, fossil</td>\n",
       "      <td>(air, urban air close to ground)</td>\n",
       "      <td>-1375.014156</td>\n",
       "      <td>kilogram</td>\n",
       "      <td>-1375.014156</td>\n",
       "      <td>kg CO2-Eq</td>\n",
       "    </tr>\n",
       "    <tr>\n",
       "      <th>2</th>\n",
       "      <td>Carbon dioxide, fossil</td>\n",
       "      <td>(air, non-urban air or from high stacks)</td>\n",
       "      <td>-207.074032</td>\n",
       "      <td>kilogram</td>\n",
       "      <td>-207.074032</td>\n",
       "      <td>kg CO2-Eq</td>\n",
       "    </tr>\n",
       "    <tr>\n",
       "      <th>3</th>\n",
       "      <td>Methane, fossil</td>\n",
       "      <td>(air, non-urban air or from high stacks)</td>\n",
       "      <td>-1.881528</td>\n",
       "      <td>kilogram</td>\n",
       "      <td>-55.881378</td>\n",
       "      <td>kg CO2-Eq</td>\n",
       "    </tr>\n",
       "    <tr>\n",
       "      <th>4</th>\n",
       "      <td>Carbon monoxide, fossil</td>\n",
       "      <td>(air, urban air close to ground)</td>\n",
       "      <td>-10.311674</td>\n",
       "      <td>kilogram</td>\n",
       "      <td>-41.890145</td>\n",
       "      <td>kg CO2-Eq</td>\n",
       "    </tr>\n",
       "    <tr>\n",
       "      <th>5</th>\n",
       "      <td>Methane, fossil</td>\n",
       "      <td>(air,)</td>\n",
       "      <td>-1.221573</td>\n",
       "      <td>kilogram</td>\n",
       "      <td>-36.280728</td>\n",
       "      <td>kg CO2-Eq</td>\n",
       "    </tr>\n",
       "  </tbody>\n",
       "</table>\n",
       "</div>"
      ],
      "text/plain": [
       "                  Emission                               Compartment  \\\n",
       "0  Carbon dioxide, fossil   (air,)                                     \n",
       "1  Carbon dioxide, fossil   (air, urban air close to ground)           \n",
       "2  Carbon dioxide, fossil   (air, non-urban air or from high stacks)   \n",
       "3  Methane, fossil          (air, non-urban air or from high stacks)   \n",
       "4  Carbon monoxide, fossil  (air, urban air close to ground)           \n",
       "5  Methane, fossil          (air,)                                     \n",
       "\n",
       "          Flow Flow Unit  Contribution       Unit  \n",
       "0 -1491.242087  kilogram -1491.242087   kg CO2-Eq  \n",
       "1 -1375.014156  kilogram -1375.014156   kg CO2-Eq  \n",
       "2 -207.074032   kilogram -207.074032    kg CO2-Eq  \n",
       "3 -1.881528     kilogram -55.881378     kg CO2-Eq  \n",
       "4 -10.311674    kilogram -41.890145     kg CO2-Eq  \n",
       "5 -1.221573     kilogram -36.280728     kg CO2-Eq  "
      ]
     },
     "execution_count": 8,
     "metadata": {},
     "output_type": "execute_result"
    },
    {
     "data": {
      "image/png": "[encoded data removed]",
      "text/plain": [
       "<Figure size 432x288 with 1 Axes>"
      ]
     },
     "metadata": {
      "needs_background": "light"
     },
     "output_type": "display_data"
    }
   ],
   "source": [
    "contr_data, fig = demo.contribution_analysis(functional_unit = {('Reprocessing', 'HDPE_P'):1},\n",
    "                                             impact_method = ('IPCC 2013', 'climate change', 'GWP 100a'),\n",
    "                                             limit = 5,\n",
    "                                             limit_type='number',\n",
    "                                             target='emissions',\n",
    "                                             figsize=(6, 4),\n",
    "                                             font_scale=1)\n",
    "contr_data"
   ]
  },
  {
   "cell_type": "markdown",
   "id": "administrative-experiment",
   "metadata": {},
   "source": [
    "## Papers"
   ]
  },
  {
   "cell_type": "code",
   "execution_count": 9,
   "id": "hairy-latex",
   "metadata": {},
   "outputs": [
    {
     "data": {
      "text/html": [
       "<div>\n",
       "<style scoped>\n",
       "    .dataframe tbody tr th:only-of-type {\n",
       "        vertical-align: middle;\n",
       "    }\n",
       "\n",
       "    .dataframe tbody tr th {\n",
       "        vertical-align: top;\n",
       "    }\n",
       "\n",
       "    .dataframe thead th {\n",
       "        text-align: right;\n",
       "    }\n",
       "</style>\n",
       "<table border=\"1\" class=\"dataframe\">\n",
       "  <thead>\n",
       "    <tr style=\"text-align: right;\">\n",
       "      <th></th>\n",
       "      <th>('IPCC 2013', 'climate change', 'GWP 100a')</th>\n",
       "    </tr>\n",
       "  </thead>\n",
       "  <tbody>\n",
       "    <tr>\n",
       "      <th>('Reprocessing', 'OCC')</th>\n",
       "      <td>-13.785393</td>\n",
       "    </tr>\n",
       "    <tr>\n",
       "      <th>('Reprocessing', 'Mixed_Paper')</th>\n",
       "      <td>-1295.993713</td>\n",
       "    </tr>\n",
       "    <tr>\n",
       "      <th>('Reprocessing', 'ONP')</th>\n",
       "      <td>-1295.993037</td>\n",
       "    </tr>\n",
       "    <tr>\n",
       "      <th>('Reprocessing', 'OFF')</th>\n",
       "      <td>525.536818</td>\n",
       "    </tr>\n",
       "    <tr>\n",
       "      <th>('Reprocessing', 'Fiber_Other')</th>\n",
       "      <td>-1295.993037</td>\n",
       "    </tr>\n",
       "  </tbody>\n",
       "</table>\n",
       "</div>"
      ],
      "text/plain": [
       "                                 ('IPCC 2013', 'climate change', 'GWP 100a')\n",
       "('Reprocessing', 'OCC')         -13.785393                                  \n",
       "('Reprocessing', 'Mixed_Paper') -1295.993713                                \n",
       "('Reprocessing', 'ONP')         -1295.993037                                \n",
       "('Reprocessing', 'OFF')          525.536818                                 \n",
       "('Reprocessing', 'Fiber_Other') -1295.993037                                "
      ]
     },
     "execution_count": 9,
     "metadata": {},
     "output_type": "execute_result"
    },
    {
     "data": {
      "image/png": "[encoded data removed]",
      "text/plain": [
       "<Figure size 432x288 with 1 Axes>"
      ]
     },
     "metadata": {
      "needs_background": "light"
     },
     "output_type": "display_data"
    }
   ],
   "source": [
    "papers = ['OCC', 'Mixed_Paper', 'ONP', 'OFF', 'Fiber_Other']\n",
    "\n",
    "papers_acts = [\"('Reprocessing', '{}')\".format(act) for act in papers]\n",
    "\n",
    "fig = LCA_results.loc[papers_acts, [\"('IPCC 2013', 'climate change', 'GWP 100a')\"]].plot(kind='bar')\n",
    "fig.xaxis.set_ticklabels(papers, rotation=45)\n",
    "fig.legend(loc='upper center', bbox_to_anchor=(0.5, 1.15))\n",
    "LCA_results.loc[papers_acts, [\"('IPCC 2013', 'climate change', 'GWP 100a')\"]]"
   ]
  },
  {
   "cell_type": "markdown",
   "id": "indian-beach",
   "metadata": {},
   "source": [
    "## Glasses"
   ]
  },
  {
   "cell_type": "code",
   "execution_count": 10,
   "id": "appointed-harrison",
   "metadata": {},
   "outputs": [
    {
     "data": {
      "text/html": [
       "<div>\n",
       "<style scoped>\n",
       "    .dataframe tbody tr th:only-of-type {\n",
       "        vertical-align: middle;\n",
       "    }\n",
       "\n",
       "    .dataframe tbody tr th {\n",
       "        vertical-align: top;\n",
       "    }\n",
       "\n",
       "    .dataframe thead th {\n",
       "        text-align: right;\n",
       "    }\n",
       "</style>\n",
       "<table border=\"1\" class=\"dataframe\">\n",
       "  <thead>\n",
       "    <tr style=\"text-align: right;\">\n",
       "      <th></th>\n",
       "      <th>('IPCC 2013', 'climate change', 'GWP 100a')</th>\n",
       "    </tr>\n",
       "  </thead>\n",
       "  <tbody>\n",
       "    <tr>\n",
       "      <th>('Reprocessing', 'Brown_glass')</th>\n",
       "      <td>-370.131575</td>\n",
       "    </tr>\n",
       "    <tr>\n",
       "      <th>('Reprocessing', 'Clear_glass')</th>\n",
       "      <td>-370.131575</td>\n",
       "    </tr>\n",
       "    <tr>\n",
       "      <th>('Reprocessing', 'Green_glass')</th>\n",
       "      <td>-370.131575</td>\n",
       "    </tr>\n",
       "    <tr>\n",
       "      <th>('Reprocessing', 'Mixed_Glass')</th>\n",
       "      <td>-370.131575</td>\n",
       "    </tr>\n",
       "  </tbody>\n",
       "</table>\n",
       "</div>"
      ],
      "text/plain": [
       "                                 ('IPCC 2013', 'climate change', 'GWP 100a')\n",
       "('Reprocessing', 'Brown_glass') -370.131575                                 \n",
       "('Reprocessing', 'Clear_glass') -370.131575                                 \n",
       "('Reprocessing', 'Green_glass') -370.131575                                 \n",
       "('Reprocessing', 'Mixed_Glass') -370.131575                                 "
      ]
     },
     "execution_count": 10,
     "metadata": {},
     "output_type": "execute_result"
    },
    {
     "data": {
      "image/png": "[encoded data removed]",
      "text/plain": [
       "<Figure size 432x288 with 1 Axes>"
      ]
     },
     "metadata": {
      "needs_background": "light"
     },
     "output_type": "display_data"
    }
   ],
   "source": [
    "glasses = ['Brown_glass', 'Clear_glass', 'Green_glass', 'Mixed_Glass']\n",
    "\n",
    "glasses_acts = [\"('Reprocessing', '{}')\".format(act) for act in glasses]\n",
    "\n",
    "fig = LCA_results.loc[glasses_acts, [\"('IPCC 2013', 'climate change', 'GWP 100a')\"]].plot(kind='bar')\n",
    "fig.xaxis.set_ticklabels(glasses, rotation=45)\n",
    "fig.legend(loc='upper center', bbox_to_anchor=(0.5, 1.15))\n",
    "LCA_results.loc[glasses_acts, [\"('IPCC 2013', 'climate change', 'GWP 100a')\"]]"
   ]
  },
  {
   "cell_type": "markdown",
   "id": "blind-spray",
   "metadata": {},
   "source": [
    "## Metals"
   ]
  },
  {
   "cell_type": "code",
   "execution_count": 11,
   "id": "becoming-reputation",
   "metadata": {},
   "outputs": [
    {
     "data": {
      "text/html": [
       "<div>\n",
       "<style scoped>\n",
       "    .dataframe tbody tr th:only-of-type {\n",
       "        vertical-align: middle;\n",
       "    }\n",
       "\n",
       "    .dataframe tbody tr th {\n",
       "        vertical-align: top;\n",
       "    }\n",
       "\n",
       "    .dataframe thead th {\n",
       "        text-align: right;\n",
       "    }\n",
       "</style>\n",
       "<table border=\"1\" class=\"dataframe\">\n",
       "  <thead>\n",
       "    <tr style=\"text-align: right;\">\n",
       "      <th></th>\n",
       "      <th>('IPCC 2013', 'climate change', 'GWP 100a')</th>\n",
       "    </tr>\n",
       "  </thead>\n",
       "  <tbody>\n",
       "    <tr>\n",
       "      <th>('Reprocessing', 'Al')</th>\n",
       "      <td>-22685.276923</td>\n",
       "    </tr>\n",
       "    <tr>\n",
       "      <th>('Reprocessing', 'Fe')</th>\n",
       "      <td>-2401.414162</td>\n",
       "    </tr>\n",
       "  </tbody>\n",
       "</table>\n",
       "</div>"
      ],
      "text/plain": [
       "                        ('IPCC 2013', 'climate change', 'GWP 100a')\n",
       "('Reprocessing', 'Al') -22685.276923                               \n",
       "('Reprocessing', 'Fe') -2401.414162                                "
      ]
     },
     "execution_count": 11,
     "metadata": {},
     "output_type": "execute_result"
    },
    {
     "data": {
      "image/png": "[encoded data removed]",
      "text/plain": [
       "<Figure size 432x288 with 1 Axes>"
      ]
     },
     "metadata": {
      "needs_background": "light"
     },
     "output_type": "display_data"
    }
   ],
   "source": [
    "metals = ['Al', 'Fe']\n",
    "\n",
    "metals_acts = [\"('Reprocessing', '{}')\".format(act) for act in metals]\n",
    "\n",
    "fig = LCA_results.loc[metals_acts, [\"('IPCC 2013', 'climate change', 'GWP 100a')\"]].plot(kind='bar')\n",
    "fig.xaxis.set_ticklabels(metals, rotation=45)\n",
    "fig.legend(loc='upper center', bbox_to_anchor=(0.5, 1.15))\n",
    "LCA_results.loc[metals_acts, [\"('IPCC 2013', 'climate change', 'GWP 100a')\"]]"
   ]
  },
  {
   "cell_type": "code",
   "execution_count": null,
   "id": "headed-spine",
   "metadata": {},
   "outputs": [],
   "source": []
  }
 ],
 "metadata": {
  "kernelspec": {
   "display_name": "Python 3",
   "language": "python",
   "name": "python3"
  },
  "language_info": {
   "codemirror_mode": {
    "name": "ipython",
    "version": 3
   },
   "file_extension": ".py",
   "mimetype": "text/x-python",
   "name": "python",
   "nbconvert_exporter": "python",
   "pygments_lexer": "ipython3",
   "version": "3.7.9"
  }
 },
 "nbformat": 4,
 "nbformat_minor": 5
}
