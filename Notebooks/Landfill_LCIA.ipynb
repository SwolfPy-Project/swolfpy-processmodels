{
 "cells": [
  {
   "cell_type": "markdown",
   "metadata": {},
   "source": [
    "# Landfill LCIA results"
   ]
  },
  {
   "cell_type": "code",
   "execution_count": 1,
   "metadata": {},
   "outputs": [],
   "source": [
    "import swolfpy as sp\n",
    "import swolfpy_inputdata as spid\n",
    "import swolfpy_processmodels as sppm\n",
    "\n",
    "import brightway2 as bw2\n",
    "import matplotlib.pyplot as plt\n",
    "import pandas as pd\n",
    "from time import time\n",
    "import os\n",
    "import platform\n",
    "from IPython.display import Image\n",
    "pd.set_option('display.max_colwidth', 0)"
   ]
  },
  {
   "cell_type": "markdown",
   "metadata": {},
   "source": [
    "### SwolfPy version used to produced the results:"
   ]
  },
  {
   "cell_type": "code",
   "execution_count": 2,
   "metadata": {},
   "outputs": [
    {
     "data": {
      "text/html": [
       "<div>\n",
       "<style scoped>\n",
       "    .dataframe tbody tr th:only-of-type {\n",
       "        vertical-align: middle;\n",
       "    }\n",
       "\n",
       "    .dataframe tbody tr th {\n",
       "        vertical-align: top;\n",
       "    }\n",
       "\n",
       "    .dataframe thead th {\n",
       "        text-align: right;\n",
       "    }\n",
       "</style>\n",
       "<table border=\"1\" class=\"dataframe\">\n",
       "  <thead>\n",
       "    <tr style=\"text-align: right;\">\n",
       "      <th></th>\n",
       "      <th>Version</th>\n",
       "    </tr>\n",
       "  </thead>\n",
       "  <tbody>\n",
       "    <tr>\n",
       "      <th>swolfpy</th>\n",
       "      <td>0.2.3</td>\n",
       "    </tr>\n",
       "    <tr>\n",
       "      <th>swolfpy_processmodels</th>\n",
       "      <td>0.1.7</td>\n",
       "    </tr>\n",
       "    <tr>\n",
       "      <th>swolfpy_inputdata</th>\n",
       "      <td>0.2.2</td>\n",
       "    </tr>\n",
       "  </tbody>\n",
       "</table>\n",
       "</div>"
      ],
      "text/plain": [
       "                      Version\n",
       "swolfpy                0.2.3 \n",
       "swolfpy_processmodels  0.1.7 \n",
       "swolfpy_inputdata      0.2.2 "
      ]
     },
     "execution_count": 2,
     "metadata": {},
     "output_type": "execute_result"
    }
   ],
   "source": [
    "pd.DataFrame({'Version': [sp.__version__, sppm.__version__, spid.__version__]},\n",
    "             index=['swolfpy', 'swolfpy_processmodels', 'swolfpy_inputdata'])"
   ]
  },
  {
   "cell_type": "markdown",
   "metadata": {},
   "source": [
    "## Create project"
   ]
  },
  {
   "cell_type": "code",
   "execution_count": 3,
   "metadata": {},
   "outputs": [],
   "source": [
    "project_name = 'demo'\n",
    "technosphere = sp.Technosphere(project_name)\n",
    "common_data = spid.CommonData()\n",
    "ProcessMetaData = sppm.ProcessModelsMetaData.ProcessModelsMetaData"
   ]
  },
  {
   "cell_type": "code",
   "execution_count": 4,
   "metadata": {},
   "outputs": [],
   "source": [
    "# Treatment processes\n",
    "Treatment_processes = {}\n",
    "Treatment_processes['LF'] = {'input_type':ProcessMetaData['LF']['InputType'] , 'model':sppm.LF()}"
   ]
  },
  {
   "cell_type": "code",
   "execution_count": 5,
   "metadata": {},
   "outputs": [
    {
     "data": {
      "text/html": [
       "<div>\n",
       "<style scoped>\n",
       "    .dataframe tbody tr th:only-of-type {\n",
       "        vertical-align: middle;\n",
       "    }\n",
       "\n",
       "    .dataframe tbody tr th {\n",
       "        vertical-align: top;\n",
       "    }\n",
       "\n",
       "    .dataframe thead th {\n",
       "        text-align: right;\n",
       "    }\n",
       "</style>\n",
       "<table border=\"1\" class=\"dataframe\">\n",
       "  <thead>\n",
       "    <tr style=\"text-align: right;\">\n",
       "      <th></th>\n",
       "      <th>LF</th>\n",
       "    </tr>\n",
       "  </thead>\n",
       "  <tbody>\n",
       "    <tr>\n",
       "      <th>LF</th>\n",
       "      <td>NaN</td>\n",
       "    </tr>\n",
       "  </tbody>\n",
       "</table>\n",
       "</div>"
      ],
      "text/plain": [
       "    LF\n",
       "LF NaN"
      ]
     },
     "execution_count": 5,
     "metadata": {},
     "output_type": "execute_result"
    }
   ],
   "source": [
    "# Distance\n",
    "Processes = ['LF']\n",
    "data = sppm.Distance.create_distance_table(process_names=Processes,\n",
    "                                           transport_modes=['Heavy Duty Truck'],\n",
    "                                           default_dist=30)\n",
    "\n",
    "distance = sppm.Distance(data)          \n",
    "data['Heavy Duty Truck']"
   ]
  },
  {
   "cell_type": "code",
   "execution_count": 6,
   "metadata": {
    "scrolled": false
   },
   "outputs": [
    {
     "name": "stdout",
     "output_type": "stream",
     "text": [
      "Biosphere database already present!!! No setup is needed\n"
     ]
    },
    {
     "name": "stderr",
     "output_type": "stream",
     "text": [
      "Writing activities to SQLite3 database:\n"
     ]
    },
    {
     "name": "stdout",
     "output_type": "stream",
     "text": [
      "\n",
      "                ####\n",
      "                ++++++  Writing the Technosphere\n",
      "                \n"
     ]
    },
    {
     "name": "stderr",
     "output_type": "stream",
     "text": [
      "0% [##############################] 100% | ETA: 00:00:00\n",
      "Total time elapsed: 00:00:15\n"
     ]
    },
    {
     "name": "stdout",
     "output_type": "stream",
     "text": [
      "Title: Writing activities to SQLite3 database:\n",
      "  Started: 11/24/2021 22:41:31\n",
      "  Finished: 11/24/2021 22:41:47\n",
      "  Total time elapsed: 00:00:15\n",
      "  CPU %: 44.00\n",
      "  Memory %: 1.33\n"
     ]
    },
    {
     "name": "stderr",
     "output_type": "stream",
     "text": [
      "Writing activities to SQLite3 database:\n"
     ]
    },
    {
     "name": "stdout",
     "output_type": "stream",
     "text": [
      "\n",
      "              ####\n",
      "              ++++++ Initializing the LF\n",
      "              \n"
     ]
    },
    {
     "name": "stderr",
     "output_type": "stream",
     "text": [
      "0% [##############################] 100% | ETA: 00:00:00\n",
      "Total time elapsed: 00:00:00\n",
      "Writing activities to SQLite3 database:\n"
     ]
    },
    {
     "name": "stdout",
     "output_type": "stream",
     "text": [
      "Title: Writing activities to SQLite3 database:\n",
      "  Started: 11/24/2021 22:41:47\n",
      "  Finished: 11/24/2021 22:41:47\n",
      "  Total time elapsed: 00:00:00\n",
      "  CPU %: 100.80\n",
      "  Memory %: 1.34\n",
      "\n",
      "              ####\n",
      "              ++++++ Writing the LF\n",
      "              \n"
     ]
    },
    {
     "name": "stderr",
     "output_type": "stream",
     "text": [
      "0% [##############################] 100% | ETA: 00:00:00\n",
      "Total time elapsed: 00:00:01\n"
     ]
    },
    {
     "name": "stdout",
     "output_type": "stream",
     "text": [
      "Title: Writing activities to SQLite3 database:\n",
      "  Started: 11/24/2021 22:41:48\n",
      "  Finished: 11/24/2021 22:41:49\n",
      "  Total time elapsed: 00:00:01\n",
      "  CPU %: 44.10\n",
      "  Memory %: 1.36\n",
      "\n",
      "                  Grouping the exchanges with parameters in Database LF\n",
      "                  \n",
      "Time for writing the project: 20 second\n"
     ]
    }
   ],
   "source": [
    "start = time()\n",
    "demo = sp.Project(project_name, common_data, Treatment_processes, distance, None, technosphere)\n",
    "demo.init_project()\n",
    "demo.write_project()\n",
    "demo.group_exchanges()\n",
    "print(\"Time for writing the project: {} second\".format(round(time()-start)))"
   ]
  },
  {
   "cell_type": "code",
   "execution_count": 7,
   "metadata": {},
   "outputs": [
    {
     "name": "stdout",
     "output_type": "stream",
     "text": [
      "Time for updating the parameters: 0 second\n"
     ]
    }
   ],
   "source": [
    "start = time()\n",
    "newparam = []\n",
    "demo.update_parameters(newparam)\n",
    "\n",
    "print(\"Time for updating the parameters: {} second\".format(round(time()-start)))"
   ]
  },
  {
   "cell_type": "markdown",
   "metadata": {},
   "source": [
    "## Create Scenario for Mixed Waste"
   ]
  },
  {
   "cell_type": "code",
   "execution_count": 8,
   "metadata": {},
   "outputs": [],
   "source": [
    "input_dict = {'LF':{}}\n",
    "\n",
    "for i,j in Treatment_processes['LF']['model'].process_data['Assumed_Comp'].items():\n",
    "    input_dict['LF'][i] = j\n",
    "demo.create_scenario(input_dict,'Residual_MSW')"
   ]
  },
  {
   "cell_type": "markdown",
   "metadata": {},
   "source": [
    "## Setup LCA analysis and contribution analysis"
   ]
  },
  {
   "cell_type": "code",
   "execution_count": 9,
   "metadata": {},
   "outputs": [
    {
     "data": {
      "text/html": [
       "<div>\n",
       "<style scoped>\n",
       "    .dataframe tbody tr th:only-of-type {\n",
       "        vertical-align: middle;\n",
       "    }\n",
       "\n",
       "    .dataframe tbody tr th {\n",
       "        vertical-align: top;\n",
       "    }\n",
       "\n",
       "    .dataframe thead th {\n",
       "        text-align: right;\n",
       "    }\n",
       "</style>\n",
       "<table border=\"1\" class=\"dataframe\">\n",
       "  <thead>\n",
       "    <tr style=\"text-align: right;\">\n",
       "      <th></th>\n",
       "      <th>('IPCC 2013', 'climate change', 'GWP 100a')</th>\n",
       "      <th>('SwolfPy_Total_Cost', 'SwolfPy')</th>\n",
       "    </tr>\n",
       "  </thead>\n",
       "  <tbody>\n",
       "    <tr>\n",
       "      <th>('LF', 'Yard_Trimmings_Leaves')</th>\n",
       "      <td>-942.977719</td>\n",
       "      <td>14.305386</td>\n",
       "    </tr>\n",
       "    <tr>\n",
       "      <th>('LF', 'Yard_Trimmings_Grass')</th>\n",
       "      <td>143.542409</td>\n",
       "      <td>15.486835</td>\n",
       "    </tr>\n",
       "    <tr>\n",
       "      <th>('LF', 'Yard_Trimmings_Branches')</th>\n",
       "      <td>-634.781549</td>\n",
       "      <td>13.063652</td>\n",
       "    </tr>\n",
       "    <tr>\n",
       "      <th>('LF', 'Food_Waste_Vegetable')</th>\n",
       "      <td>310.619866</td>\n",
       "      <td>15.896122</td>\n",
       "    </tr>\n",
       "    <tr>\n",
       "      <th>('LF', 'Food_Waste_Non_Vegetable')</th>\n",
       "      <td>267.695255</td>\n",
       "      <td>21.579785</td>\n",
       "    </tr>\n",
       "    <tr>\n",
       "      <th>('LF', 'Wood')</th>\n",
       "      <td>-1472.154253</td>\n",
       "      <td>13.959332</td>\n",
       "    </tr>\n",
       "    <tr>\n",
       "      <th>('LF', 'Wood_Other')</th>\n",
       "      <td>-1377.489414</td>\n",
       "      <td>14.051989</td>\n",
       "    </tr>\n",
       "    <tr>\n",
       "      <th>('LF', 'Textiles')</th>\n",
       "      <td>609.844282</td>\n",
       "      <td>2.683300</td>\n",
       "    </tr>\n",
       "    <tr>\n",
       "      <th>('LF', 'Rubber_Leather')</th>\n",
       "      <td>-776.146969</td>\n",
       "      <td>14.378786</td>\n",
       "    </tr>\n",
       "    <tr>\n",
       "      <th>('LF', 'Newsprint')</th>\n",
       "      <td>-1042.713003</td>\n",
       "      <td>13.578850</td>\n",
       "    </tr>\n",
       "    <tr>\n",
       "      <th>('LF', 'Corr_Cardboard')</th>\n",
       "      <td>22.181761</td>\n",
       "      <td>16.254736</td>\n",
       "    </tr>\n",
       "    <tr>\n",
       "      <th>('LF', 'Office_Paper')</th>\n",
       "      <td>905.489310</td>\n",
       "      <td>7.380375</td>\n",
       "    </tr>\n",
       "    <tr>\n",
       "      <th>('LF', 'Magazines')</th>\n",
       "      <td>-538.259701</td>\n",
       "      <td>15.033215</td>\n",
       "    </tr>\n",
       "    <tr>\n",
       "      <th>('LF', 'Third_Class_Mail')</th>\n",
       "      <td>-744.227001</td>\n",
       "      <td>15.256927</td>\n",
       "    </tr>\n",
       "    <tr>\n",
       "      <th>('LF', 'Folding_Containers')</th>\n",
       "      <td>-187.334653</td>\n",
       "      <td>16.014127</td>\n",
       "    </tr>\n",
       "    <tr>\n",
       "      <th>('LF', 'Paper_Bags')</th>\n",
       "      <td>1.728075</td>\n",
       "      <td>12.268320</td>\n",
       "    </tr>\n",
       "    <tr>\n",
       "      <th>('LF', 'Mixed_Paper')</th>\n",
       "      <td>-450.480452</td>\n",
       "      <td>12.153837</td>\n",
       "    </tr>\n",
       "    <tr>\n",
       "      <th>('LF', 'Paper_Non_recyclable')</th>\n",
       "      <td>-447.214645</td>\n",
       "      <td>12.795285</td>\n",
       "    </tr>\n",
       "    <tr>\n",
       "      <th>('LF', 'HDPE_Translucent_Containers')</th>\n",
       "      <td>11.991894</td>\n",
       "      <td>14.378788</td>\n",
       "    </tr>\n",
       "    <tr>\n",
       "      <th>('LF', 'HDPE_Pigmented_Containers')</th>\n",
       "      <td>11.991894</td>\n",
       "      <td>14.378788</td>\n",
       "    </tr>\n",
       "    <tr>\n",
       "      <th>('LF', 'PET_Containers')</th>\n",
       "      <td>11.991894</td>\n",
       "      <td>14.378788</td>\n",
       "    </tr>\n",
       "    <tr>\n",
       "      <th>('LF', 'Plastic_Other_1_Polypropylene')</th>\n",
       "      <td>11.991894</td>\n",
       "      <td>14.378789</td>\n",
       "    </tr>\n",
       "    <tr>\n",
       "      <th>('LF', 'Plastic_Other_2')</th>\n",
       "      <td>11.991892</td>\n",
       "      <td>14.378788</td>\n",
       "    </tr>\n",
       "    <tr>\n",
       "      <th>('LF', 'Mixed_Plastic')</th>\n",
       "      <td>11.991895</td>\n",
       "      <td>14.378789</td>\n",
       "    </tr>\n",
       "    <tr>\n",
       "      <th>('LF', 'Plastic_Film')</th>\n",
       "      <td>11.991894</td>\n",
       "      <td>14.378789</td>\n",
       "    </tr>\n",
       "    <tr>\n",
       "      <th>('LF', 'Plastic_Non_Recyclable')</th>\n",
       "      <td>11.991892</td>\n",
       "      <td>14.378788</td>\n",
       "    </tr>\n",
       "    <tr>\n",
       "      <th>('LF', 'Ferrous_Cans')</th>\n",
       "      <td>11.991886</td>\n",
       "      <td>14.378786</td>\n",
       "    </tr>\n",
       "    <tr>\n",
       "      <th>('LF', 'Ferrous_Metal_Other')</th>\n",
       "      <td>11.991886</td>\n",
       "      <td>14.378786</td>\n",
       "    </tr>\n",
       "    <tr>\n",
       "      <th>('LF', 'Aluminum_Cans')</th>\n",
       "      <td>11.991896</td>\n",
       "      <td>14.378789</td>\n",
       "    </tr>\n",
       "    <tr>\n",
       "      <th>('LF', 'Aluminum_Foil')</th>\n",
       "      <td>11.991896</td>\n",
       "      <td>14.378789</td>\n",
       "    </tr>\n",
       "    <tr>\n",
       "      <th>('LF', 'Aluminum_Other')</th>\n",
       "      <td>11.991896</td>\n",
       "      <td>14.378789</td>\n",
       "    </tr>\n",
       "    <tr>\n",
       "      <th>('LF', 'Ferrous_Non_recyclable')</th>\n",
       "      <td>11.991897</td>\n",
       "      <td>14.378789</td>\n",
       "    </tr>\n",
       "    <tr>\n",
       "      <th>('LF', 'Al_Non_recyclable')</th>\n",
       "      <td>11.991896</td>\n",
       "      <td>14.378789</td>\n",
       "    </tr>\n",
       "    <tr>\n",
       "      <th>('LF', 'Glass_Brown')</th>\n",
       "      <td>11.991895</td>\n",
       "      <td>14.378789</td>\n",
       "    </tr>\n",
       "    <tr>\n",
       "      <th>('LF', 'Glass_Green')</th>\n",
       "      <td>11.991896</td>\n",
       "      <td>14.378789</td>\n",
       "    </tr>\n",
       "    <tr>\n",
       "      <th>('LF', 'Glass_Clear')</th>\n",
       "      <td>11.991888</td>\n",
       "      <td>14.378787</td>\n",
       "    </tr>\n",
       "    <tr>\n",
       "      <th>('LF', 'Mixed_Glass')</th>\n",
       "      <td>11.991892</td>\n",
       "      <td>14.378788</td>\n",
       "    </tr>\n",
       "    <tr>\n",
       "      <th>('LF', 'Glass_Non_recyclable')</th>\n",
       "      <td>11.991885</td>\n",
       "      <td>14.378786</td>\n",
       "    </tr>\n",
       "    <tr>\n",
       "      <th>('LF', 'Misc_Organic')</th>\n",
       "      <td>-81.994778</td>\n",
       "      <td>19.042964</td>\n",
       "    </tr>\n",
       "    <tr>\n",
       "      <th>('LF', 'Misc_Inorganic')</th>\n",
       "      <td>11.991906</td>\n",
       "      <td>14.378793</td>\n",
       "    </tr>\n",
       "    <tr>\n",
       "      <th>('LF', 'E_waste')</th>\n",
       "      <td>11.991894</td>\n",
       "      <td>14.378788</td>\n",
       "    </tr>\n",
       "    <tr>\n",
       "      <th>('LF', 'Bottom_Ash')</th>\n",
       "      <td>11.991885</td>\n",
       "      <td>14.378786</td>\n",
       "    </tr>\n",
       "    <tr>\n",
       "      <th>('LF', 'Fly_Ash')</th>\n",
       "      <td>11.991894</td>\n",
       "      <td>14.378788</td>\n",
       "    </tr>\n",
       "    <tr>\n",
       "      <th>('LF', 'Diapers_and_sanitary_products')</th>\n",
       "      <td>724.577610</td>\n",
       "      <td>11.428642</td>\n",
       "    </tr>\n",
       "    <tr>\n",
       "      <th>('waste', 'Residual_MSW')</th>\n",
       "      <td>-108.240515</td>\n",
       "      <td>14.224213</td>\n",
       "    </tr>\n",
       "  </tbody>\n",
       "</table>\n",
       "</div>"
      ],
      "text/plain": [
       "                                         ('IPCC 2013', 'climate change', 'GWP 100a')  \\\n",
       "('LF', 'Yard_Trimmings_Leaves')         -942.977719                                    \n",
       "('LF', 'Yard_Trimmings_Grass')           143.542409                                    \n",
       "('LF', 'Yard_Trimmings_Branches')       -634.781549                                    \n",
       "('LF', 'Food_Waste_Vegetable')           310.619866                                    \n",
       "('LF', 'Food_Waste_Non_Vegetable')       267.695255                                    \n",
       "('LF', 'Wood')                          -1472.154253                                   \n",
       "('LF', 'Wood_Other')                    -1377.489414                                   \n",
       "('LF', 'Textiles')                       609.844282                                    \n",
       "('LF', 'Rubber_Leather')                -776.146969                                    \n",
       "('LF', 'Newsprint')                     -1042.713003                                   \n",
       "('LF', 'Corr_Cardboard')                 22.181761                                     \n",
       "('LF', 'Office_Paper')                   905.489310                                    \n",
       "('LF', 'Magazines')                     -538.259701                                    \n",
       "('LF', 'Third_Class_Mail')              -744.227001                                    \n",
       "('LF', 'Folding_Containers')            -187.334653                                    \n",
       "('LF', 'Paper_Bags')                     1.728075                                      \n",
       "('LF', 'Mixed_Paper')                   -450.480452                                    \n",
       "('LF', 'Paper_Non_recyclable')          -447.214645                                    \n",
       "('LF', 'HDPE_Translucent_Containers')    11.991894                                     \n",
       "('LF', 'HDPE_Pigmented_Containers')      11.991894                                     \n",
       "('LF', 'PET_Containers')                 11.991894                                     \n",
       "('LF', 'Plastic_Other_1_Polypropylene')  11.991894                                     \n",
       "('LF', 'Plastic_Other_2')                11.991892                                     \n",
       "('LF', 'Mixed_Plastic')                  11.991895                                     \n",
       "('LF', 'Plastic_Film')                   11.991894                                     \n",
       "('LF', 'Plastic_Non_Recyclable')         11.991892                                     \n",
       "('LF', 'Ferrous_Cans')                   11.991886                                     \n",
       "('LF', 'Ferrous_Metal_Other')            11.991886                                     \n",
       "('LF', 'Aluminum_Cans')                  11.991896                                     \n",
       "('LF', 'Aluminum_Foil')                  11.991896                                     \n",
       "('LF', 'Aluminum_Other')                 11.991896                                     \n",
       "('LF', 'Ferrous_Non_recyclable')         11.991897                                     \n",
       "('LF', 'Al_Non_recyclable')              11.991896                                     \n",
       "('LF', 'Glass_Brown')                    11.991895                                     \n",
       "('LF', 'Glass_Green')                    11.991896                                     \n",
       "('LF', 'Glass_Clear')                    11.991888                                     \n",
       "('LF', 'Mixed_Glass')                    11.991892                                     \n",
       "('LF', 'Glass_Non_recyclable')           11.991885                                     \n",
       "('LF', 'Misc_Organic')                  -81.994778                                     \n",
       "('LF', 'Misc_Inorganic')                 11.991906                                     \n",
       "('LF', 'E_waste')                        11.991894                                     \n",
       "('LF', 'Bottom_Ash')                     11.991885                                     \n",
       "('LF', 'Fly_Ash')                        11.991894                                     \n",
       "('LF', 'Diapers_and_sanitary_products')  724.577610                                    \n",
       "('waste', 'Residual_MSW')               -108.240515                                    \n",
       "\n",
       "                                         ('SwolfPy_Total_Cost', 'SwolfPy')  \n",
       "('LF', 'Yard_Trimmings_Leaves')          14.305386                          \n",
       "('LF', 'Yard_Trimmings_Grass')           15.486835                          \n",
       "('LF', 'Yard_Trimmings_Branches')        13.063652                          \n",
       "('LF', 'Food_Waste_Vegetable')           15.896122                          \n",
       "('LF', 'Food_Waste_Non_Vegetable')       21.579785                          \n",
       "('LF', 'Wood')                           13.959332                          \n",
       "('LF', 'Wood_Other')                     14.051989                          \n",
       "('LF', 'Textiles')                       2.683300                           \n",
       "('LF', 'Rubber_Leather')                 14.378786                          \n",
       "('LF', 'Newsprint')                      13.578850                          \n",
       "('LF', 'Corr_Cardboard')                 16.254736                          \n",
       "('LF', 'Office_Paper')                   7.380375                           \n",
       "('LF', 'Magazines')                      15.033215                          \n",
       "('LF', 'Third_Class_Mail')               15.256927                          \n",
       "('LF', 'Folding_Containers')             16.014127                          \n",
       "('LF', 'Paper_Bags')                     12.268320                          \n",
       "('LF', 'Mixed_Paper')                    12.153837                          \n",
       "('LF', 'Paper_Non_recyclable')           12.795285                          \n",
       "('LF', 'HDPE_Translucent_Containers')    14.378788                          \n",
       "('LF', 'HDPE_Pigmented_Containers')      14.378788                          \n",
       "('LF', 'PET_Containers')                 14.378788                          \n",
       "('LF', 'Plastic_Other_1_Polypropylene')  14.378789                          \n",
       "('LF', 'Plastic_Other_2')                14.378788                          \n",
       "('LF', 'Mixed_Plastic')                  14.378789                          \n",
       "('LF', 'Plastic_Film')                   14.378789                          \n",
       "('LF', 'Plastic_Non_Recyclable')         14.378788                          \n",
       "('LF', 'Ferrous_Cans')                   14.378786                          \n",
       "('LF', 'Ferrous_Metal_Other')            14.378786                          \n",
       "('LF', 'Aluminum_Cans')                  14.378789                          \n",
       "('LF', 'Aluminum_Foil')                  14.378789                          \n",
       "('LF', 'Aluminum_Other')                 14.378789                          \n",
       "('LF', 'Ferrous_Non_recyclable')         14.378789                          \n",
       "('LF', 'Al_Non_recyclable')              14.378789                          \n",
       "('LF', 'Glass_Brown')                    14.378789                          \n",
       "('LF', 'Glass_Green')                    14.378789                          \n",
       "('LF', 'Glass_Clear')                    14.378787                          \n",
       "('LF', 'Mixed_Glass')                    14.378788                          \n",
       "('LF', 'Glass_Non_recyclable')           14.378786                          \n",
       "('LF', 'Misc_Organic')                   19.042964                          \n",
       "('LF', 'Misc_Inorganic')                 14.378793                          \n",
       "('LF', 'E_waste')                        14.378788                          \n",
       "('LF', 'Bottom_Ash')                     14.378786                          \n",
       "('LF', 'Fly_Ash')                        14.378788                          \n",
       "('LF', 'Diapers_and_sanitary_products')  11.428642                          \n",
       "('waste', 'Residual_MSW')                14.224213                          "
      ]
     },
     "execution_count": 9,
     "metadata": {},
     "output_type": "execute_result"
    }
   ],
   "source": [
    "func = []\n",
    "for w in common_data.Index:\n",
    "    func.append({('LF', w):1})\n",
    "\n",
    "func.append({('waste', 'Residual_MSW'):1})\n",
    "functioanl_units = func\n",
    "impact_methods = [('IPCC 2013', 'climate change', 'GWP 100a'),('SwolfPy_Total_Cost', 'SwolfPy')]\n",
    "lcis_res = sp.Project.setup_LCA('LF',functioanl_units,impact_methods)\n",
    "lcis_res"
   ]
  },
  {
   "cell_type": "code",
   "execution_count": 10,
   "metadata": {},
   "outputs": [
    {
     "data": {
      "text/plain": [
       "<AxesSubplot:>"
      ]
     },
     "execution_count": 10,
     "metadata": {},
     "output_type": "execute_result"
    },
    {
     "data": {
      "image/png": "[encoded data removed]",
      "text/plain": [
       "<Figure size 1080x360 with 1 Axes>"
      ]
     },
     "metadata": {
      "needs_background": "light"
     },
     "output_type": "display_data"
    }
   ],
   "source": [
    "fig, ax = plt.subplots(1, 1, figsize=(15,5))\n",
    "lcis_res.iloc[:, 0].plot.bar()"
   ]
  },
  {
   "cell_type": "code",
   "execution_count": 11,
   "metadata": {},
   "outputs": [
    {
     "data": {
      "text/plain": [
       "<AxesSubplot:>"
      ]
     },
     "execution_count": 11,
     "metadata": {},
     "output_type": "execute_result"
    },
    {
     "data": {
      "image/png": "[encoded data removed]",
      "text/plain": [
       "<Figure size 1080x360 with 1 Axes>"
      ]
     },
     "metadata": {
      "needs_background": "light"
     },
     "output_type": "display_data"
    }
   ],
   "source": [
    "fig, ax = plt.subplots(1, 1, figsize=(15,5))\n",
    "lcis_res.iloc[:, 1].plot.bar()"
   ]
  },
  {
   "cell_type": "code",
   "execution_count": null,
   "metadata": {},
   "outputs": [],
   "source": []
  }
 ],
 "metadata": {
  "kernelspec": {
   "display_name": "Python 3",
   "language": "python",
   "name": "python3"
  },
  "language_info": {
   "codemirror_mode": {
    "name": "ipython",
    "version": 3
   },
   "file_extension": ".py",
   "mimetype": "text/x-python",
   "name": "python",
   "nbconvert_exporter": "python",
   "pygments_lexer": "ipython3",
   "version": "3.7.9"
  }
 },
 "nbformat": 4,
 "nbformat_minor": 4
}
